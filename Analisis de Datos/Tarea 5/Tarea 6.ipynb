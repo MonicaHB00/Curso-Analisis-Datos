{
 "cells": [
  {
   "cell_type": "code",
   "execution_count": 1,
   "id": "3963877b",
   "metadata": {},
   "outputs": [],
   "source": [
    "# Importación de librerías globales para todo el notebook\n",
    "import pandas as pd\n",
    "import numpy as np\n",
    "import matplotlib.pyplot as plt\n",
    "import plotly.graph_objects as go\n",
    "from sklearn.svm import SVC\n",
    "from sklearn.preprocessing import StandardScaler\n",
    "from sklearn.model_selection import train_test_split, RepeatedStratifiedKFold, RandomizedSearchCV\n",
    "from sklearn.discriminant_analysis import LinearDiscriminantAnalysis as LDA\n",
    "from sklearn.discriminant_analysis import QuadraticDiscriminantAnalysis as QDA\n",
    "from sklearn.naive_bayes import GaussianNB\n",
    "from sklearn.tree import DecisionTreeClassifier\n",
    "from sklearn.ensemble import RandomForestClassifier\n",
    "from sklearn.metrics import accuracy_score, confusion_matrix, classification_report, roc_curve, roc_auc_score\n"
   ]
  },
  {
   "cell_type": "markdown",
   "id": "442fcb61",
   "metadata": {},
   "source": [
    "## Pregunta 2 - Visualización ajustada para SVM 3D"
   ]
  },
  {
   "cell_type": "code",
   "execution_count": 2,
   "id": "9568fca6",
   "metadata": {},
   "outputs": [
    {
     "name": "stderr",
     "output_type": "stream",
     "text": [
      "/home/codespace/.local/lib/python3.12/site-packages/sklearn/utils/validation.py:2739: UserWarning: X does not have valid feature names, but StandardScaler was fitted with feature names\n",
      "  warnings.warn(\n"
     ]
    },
    {
     "data": {
      "application/vnd.plotly.v1+json": {
       "config": {
        "plotlyServerURL": "https://plot.ly"
       },
       "data": [
        {
         "marker": {
          "color": "red",
          "size": 3
         },
         "mode": "markers",
         "name": "Clase Rojo",
         "type": "scatter3d",
         "x": {
          "bdata": "AQEBAwE=",
          "dtype": "i1"
         },
         "y": {
          "bdata": "AAABAQE=",
          "dtype": "i1"
         },
         "z": {
          "bdata": "AQICBAM=",
          "dtype": "i1"
         }
        },
        {
         "marker": {
          "color": "blue",
          "size": 3
         },
         "mode": "markers",
         "name": "Clase Azul",
         "type": "scatter3d",
         "x": {
          "bdata": "AwEDAQ==",
          "dtype": "i1"
         },
         "y": {
          "bdata": "AgICAQ==",
          "dtype": "i1"
         },
         "z": {
          "bdata": "AwEBAA==",
          "dtype": "i1"
         }
        },
        {
         "marker": {
          "color": "black",
          "size": 4,
          "symbol": "x"
         },
         "mode": "markers",
         "name": "Vectores de soporte",
         "type": "scatter3d",
         "x": {
          "bdata": "AwEBAQ==",
          "dtype": "i1"
         },
         "y": {
          "bdata": "AgEAAQ==",
          "dtype": "i1"
         },
         "z": {
          "bdata": "AwABAg==",
          "dtype": "i1"
         }
        },
        {
         "colorscale": [
          [
           0,
           "rgb(255,255,255)"
          ],
          [
           0.125,
           "rgb(240,240,240)"
          ],
          [
           0.25,
           "rgb(217,217,217)"
          ],
          [
           0.375,
           "rgb(189,189,189)"
          ],
          [
           0.5,
           "rgb(150,150,150)"
          ],
          [
           0.625,
           "rgb(115,115,115)"
          ],
          [
           0.75,
           "rgb(82,82,82)"
          ],
          [
           0.875,
           "rgb(37,37,37)"
          ],
          [
           1,
           "rgb(0,0,0)"
          ]
         ],
         "name": "Hiperplano óptimo",
         "opacity": 0.4,
         "showscale": false,
         "type": "surface",
         "x": {
          "bdata": "AAAAAAAA8D/kOI7jOI7zP8dxHMdxHPc/qqqqqqqq+j+O4ziO4zj+PzmO4ziO4wBAqqqqqqqqAkAcx3Ecx3EEQI7jOI7jOAZAAAAAAAAACEAAAAAAAADwP+Q4juM4jvM/x3Ecx3Ec9z+qqqqqqqr6P47jOI7jOP4/OY7jOI7jAECqqqqqqqoCQBzHcRzHcQRAjuM4juM4BkAAAAAAAAAIQAAAAAAAAPA/5DiO4ziO8z/HcRzHcRz3P6qqqqqqqvo/juM4juM4/j85juM4juMAQKqqqqqqqgJAHMdxHMdxBECO4ziO4zgGQAAAAAAAAAhAAAAAAAAA8D/kOI7jOI7zP8dxHMdxHPc/qqqqqqqq+j+O4ziO4zj+PzmO4ziO4wBAqqqqqqqqAkAcx3Ecx3EEQI7jOI7jOAZAAAAAAAAACEAAAAAAAADwP+Q4juM4jvM/x3Ecx3Ec9z+qqqqqqqr6P47jOI7jOP4/OY7jOI7jAECqqqqqqqoCQBzHcRzHcQRAjuM4juM4BkAAAAAAAAAIQAAAAAAAAPA/5DiO4ziO8z/HcRzHcRz3P6qqqqqqqvo/juM4juM4/j85juM4juMAQKqqqqqqqgJAHMdxHMdxBECO4ziO4zgGQAAAAAAAAAhAAAAAAAAA8D/kOI7jOI7zP8dxHMdxHPc/qqqqqqqq+j+O4ziO4zj+PzmO4ziO4wBAqqqqqqqqAkAcx3Ecx3EEQI7jOI7jOAZAAAAAAAAACEAAAAAAAADwP+Q4juM4jvM/x3Ecx3Ec9z+qqqqqqqr6P47jOI7jOP4/OY7jOI7jAECqqqqqqqoCQBzHcRzHcQRAjuM4juM4BkAAAAAAAAAIQAAAAAAAAPA/5DiO4ziO8z/HcRzHcRz3P6qqqqqqqvo/juM4juM4/j85juM4juMAQKqqqqqqqgJAHMdxHMdxBECO4ziO4zgGQAAAAAAAAAhAAAAAAAAA8D/kOI7jOI7zP8dxHMdxHPc/qqqqqqqq+j+O4ziO4zj+PzmO4ziO4wBAqqqqqqqqAkAcx3Ecx3EEQI7jOI7jOAZAAAAAAAAACEA=",
          "dtype": "f8",
          "shape": "10, 10"
         },
         "y": {
          "bdata": "AAAAAAAAAAAAAAAAAAAAAAAAAAAAAAAAAAAAAAAAAAAAAAAAAAAAAAAAAAAAAAAAAAAAAAAAAAAAAAAAAAAAAAAAAAAAAAAAAAAAAAAAAAAcx3Ecx3HMPxzHcRzHccw/HMdxHMdxzD8cx3Ecx3HMPxzHcRzHccw/HMdxHMdxzD8cx3Ecx3HMPxzHcRzHccw/HMdxHMdxzD8cx3Ecx3HMPxzHcRzHcdw/HMdxHMdx3D8cx3Ecx3HcPxzHcRzHcdw/HMdxHMdx3D8cx3Ecx3HcPxzHcRzHcdw/HMdxHMdx3D8cx3Ecx3HcPxzHcRzHcdw/VVVVVVVV5T9VVVVVVVXlP1VVVVVVVeU/VVVVVVVV5T9VVVVVVVXlP1VVVVVVVeU/VVVVVVVV5T9VVVVVVVXlP1VVVVVVVeU/VVVVVVVV5T8cx3Ecx3HsPxzHcRzHcew/HMdxHMdx7D8cx3Ecx3HsPxzHcRzHcew/HMdxHMdx7D8cx3Ecx3HsPxzHcRzHcew/HMdxHMdx7D8cx3Ecx3HsP3Icx3Ecx/E/chzHcRzH8T9yHMdxHMfxP3Icx3Ecx/E/chzHcRzH8T9yHMdxHMfxP3Icx3Ecx/E/chzHcRzH8T9yHMdxHMfxP3Icx3Ecx/E/VVVVVVVV9T9VVVVVVVX1P1VVVVVVVfU/VVVVVVVV9T9VVVVVVVX1P1VVVVVVVfU/VVVVVVVV9T9VVVVVVVX1P1VVVVVVVfU/VVVVVVVV9T84juM4juP4PziO4ziO4/g/OI7jOI7j+D84juM4juP4PziO4ziO4/g/OI7jOI7j+D84juM4juP4PziO4ziO4/g/OI7jOI7j+D84juM4juP4PxzHcRzHcfw/HMdxHMdx/D8cx3Ecx3H8PxzHcRzHcfw/HMdxHMdx/D8cx3Ecx3H8PxzHcRzHcfw/HMdxHMdx/D8cx3Ecx3H8PxzHcRzHcfw/AAAAAAAAAEAAAAAAAAAAQAAAAAAAAABAAAAAAAAAAEAAAAAAAAAAQAAAAAAAAABAAAAAAAAAAEAAAAAAAAAAQAAAAAAAAABAAAAAAAAAAEA=",
          "dtype": "f8",
          "shape": "10, 10"
         },
         "z": {
          "bdata": "sB5Ef8aUwb+AnP6qSOGrP/Bsw9Rqhc8/ZJljv0EJ3D8mvjIK5yfkP56vszQtS+o/iFCarzk38D9EydrE3EjzP/9BG9p/WvY/urpb7yJs+T9YGlDhjarCPxjwqUXTm9U/gulVzS/x4D/22tb3dRTnP2vMVyK8N+0/8l5sJoGt8T+r16w7JL/0P2ZQ7VDH0Pc/IcktZmri+j/cQW57DfT9P7wp8iDxdNs/Ugb6ur7d4z/I93rlBAHqP570/YclEvA/WW0+ncgj8z8V5n6yazX2P85ev8cOR/k/itf/3LFY/D9EUEDyVGr/P4BkwAP8PQFAIiOeqE3K5j+YFB/Tk+3sPwYD0P5siPE/wXsQFBCa9D989FAps6v3PzdtkT5Wvfo/8eXRU/nO/T9WL4k0TnAAQLRrKb8f+QFAEajJSfGBA0BnMcPAItrvP28RonW0/vI/KoriilcQ9j/kAiOg+iH5P597Y7WdM/w/WvSjykBF/z+KNvLvcSsBQOhyknpDtAJARa8yBRU9BECi69KP5sUFQNgfdOz7dPQ/k5i0AZ+G9z9NEfUWQpj6PweKNSzlqf0/YQG7IMRdAEC/PVurleYBQBx6+zVnbwNAerabwDj4BEDX8jtLCoEGQDQv3NXbCQhA+qaGeOb8+D+1H8eNiQ78P2+YB6MsIP8/lQgk3OcYAUDyRMRmuaECQFCBZPGKKgRArL0EfFyzBUAK+qQGLjwHQGc2RZH/xAhAxnLlG9FNCkAcLpkE0YT9P2zT7Aw6SwBAyQ+NlwvUAUAmTC0i3VwDQIOIzayu5QRA4cRtN4BuBkA+AQ7CUfcHQJw9rkwjgAlA+HlO1/QIC0BWtu5hxpEMQKDaVchdBgFA/hb2Ui+PAkBaU5bdABgEQLiPNmjSoAVAFczW8qMpB0ByCHd9dbIIQNBEFwhHOwpALoG3khjEC0CKvVcd6kwNQOj596e71Q5AMh5fDlNKA0CPWv+YJNMEQOyWnyP2WwZASdM/rsfkB0CnD+A4mW0JQARMgMNq9gpAYoggTjx/DEC+xMDYDQgOQBwBYWPfkA9AvZ4Ad9iMEEA=",
          "dtype": "f8",
          "shape": "10, 10"
         }
        },
        {
         "colorscale": [
          [
           0,
           "rgb(247,251,255)"
          ],
          [
           0.125,
           "rgb(222,235,247)"
          ],
          [
           0.25,
           "rgb(198,219,239)"
          ],
          [
           0.375,
           "rgb(158,202,225)"
          ],
          [
           0.5,
           "rgb(107,174,214)"
          ],
          [
           0.625,
           "rgb(66,146,198)"
          ],
          [
           0.75,
           "rgb(33,113,181)"
          ],
          [
           0.875,
           "rgb(8,81,156)"
          ],
          [
           1,
           "rgb(8,48,107)"
          ]
         ],
         "name": "No óptimo",
         "opacity": 0.3,
         "showscale": false,
         "type": "surface",
         "x": {
          "bdata": "AAAAAAAA8D/kOI7jOI7zP8dxHMdxHPc/qqqqqqqq+j+O4ziO4zj+PzmO4ziO4wBAqqqqqqqqAkAcx3Ecx3EEQI7jOI7jOAZAAAAAAAAACEAAAAAAAADwP+Q4juM4jvM/x3Ecx3Ec9z+qqqqqqqr6P47jOI7jOP4/OY7jOI7jAECqqqqqqqoCQBzHcRzHcQRAjuM4juM4BkAAAAAAAAAIQAAAAAAAAPA/5DiO4ziO8z/HcRzHcRz3P6qqqqqqqvo/juM4juM4/j85juM4juMAQKqqqqqqqgJAHMdxHMdxBECO4ziO4zgGQAAAAAAAAAhAAAAAAAAA8D/kOI7jOI7zP8dxHMdxHPc/qqqqqqqq+j+O4ziO4zj+PzmO4ziO4wBAqqqqqqqqAkAcx3Ecx3EEQI7jOI7jOAZAAAAAAAAACEAAAAAAAADwP+Q4juM4jvM/x3Ecx3Ec9z+qqqqqqqr6P47jOI7jOP4/OY7jOI7jAECqqqqqqqoCQBzHcRzHcQRAjuM4juM4BkAAAAAAAAAIQAAAAAAAAPA/5DiO4ziO8z/HcRzHcRz3P6qqqqqqqvo/juM4juM4/j85juM4juMAQKqqqqqqqgJAHMdxHMdxBECO4ziO4zgGQAAAAAAAAAhAAAAAAAAA8D/kOI7jOI7zP8dxHMdxHPc/qqqqqqqq+j+O4ziO4zj+PzmO4ziO4wBAqqqqqqqqAkAcx3Ecx3EEQI7jOI7jOAZAAAAAAAAACEAAAAAAAADwP+Q4juM4jvM/x3Ecx3Ec9z+qqqqqqqr6P47jOI7jOP4/OY7jOI7jAECqqqqqqqoCQBzHcRzHcQRAjuM4juM4BkAAAAAAAAAIQAAAAAAAAPA/5DiO4ziO8z/HcRzHcRz3P6qqqqqqqvo/juM4juM4/j85juM4juMAQKqqqqqqqgJAHMdxHMdxBECO4ziO4zgGQAAAAAAAAAhAAAAAAAAA8D/kOI7jOI7zP8dxHMdxHPc/qqqqqqqq+j+O4ziO4zj+PzmO4ziO4wBAqqqqqqqqAkAcx3Ecx3EEQI7jOI7jOAZAAAAAAAAACEA=",
          "dtype": "f8",
          "shape": "10, 10"
         },
         "y": {
          "bdata": "AAAAAAAAAAAAAAAAAAAAAAAAAAAAAAAAAAAAAAAAAAAAAAAAAAAAAAAAAAAAAAAAAAAAAAAAAAAAAAAAAAAAAAAAAAAAAAAAAAAAAAAAAAAcx3Ecx3HMPxzHcRzHccw/HMdxHMdxzD8cx3Ecx3HMPxzHcRzHccw/HMdxHMdxzD8cx3Ecx3HMPxzHcRzHccw/HMdxHMdxzD8cx3Ecx3HMPxzHcRzHcdw/HMdxHMdx3D8cx3Ecx3HcPxzHcRzHcdw/HMdxHMdx3D8cx3Ecx3HcPxzHcRzHcdw/HMdxHMdx3D8cx3Ecx3HcPxzHcRzHcdw/VVVVVVVV5T9VVVVVVVXlP1VVVVVVVeU/VVVVVVVV5T9VVVVVVVXlP1VVVVVVVeU/VVVVVVVV5T9VVVVVVVXlP1VVVVVVVeU/VVVVVVVV5T8cx3Ecx3HsPxzHcRzHcew/HMdxHMdx7D8cx3Ecx3HsPxzHcRzHcew/HMdxHMdx7D8cx3Ecx3HsPxzHcRzHcew/HMdxHMdx7D8cx3Ecx3HsP3Icx3Ecx/E/chzHcRzH8T9yHMdxHMfxP3Icx3Ecx/E/chzHcRzH8T9yHMdxHMfxP3Icx3Ecx/E/chzHcRzH8T9yHMdxHMfxP3Icx3Ecx/E/VVVVVVVV9T9VVVVVVVX1P1VVVVVVVfU/VVVVVVVV9T9VVVVVVVX1P1VVVVVVVfU/VVVVVVVV9T9VVVVVVVX1P1VVVVVVVfU/VVVVVVVV9T84juM4juP4PziO4ziO4/g/OI7jOI7j+D84juM4juP4PziO4ziO4/g/OI7jOI7j+D84juM4juP4PziO4ziO4/g/OI7jOI7j+D84juM4juP4PxzHcRzHcfw/HMdxHMdx/D8cx3Ecx3H8PxzHcRzHcfw/HMdxHMdx/D8cx3Ecx3H8PxzHcRzHcfw/HMdxHMdx/D8cx3Ecx3H8PxzHcRzHcfw/AAAAAAAAAEAAAAAAAAAAQAAAAAAAAABAAAAAAAAAAEAAAAAAAAAAQAAAAAAAAABAAAAAAAAAAEAAAAAAAAAAQAAAAAAAAABAAAAAAAAAAEA=",
          "dtype": "f8",
          "shape": "10, 10"
         },
         "z": {
          "bdata": "8CbQKDve4T/sQNxd6QPlP+Ra6JKXKeg/3HT0x0VP6z/WjgD983TuP2hUBhlRzfA/Y2GMMyhg8j9hbhJO//LzP1x7mGjWhfU/Wogeg60Y9z+chitPvYPmP5igN4Rrqek/kLpDuRnP7D+I1E/ux/TvP0D3rRE7jfE/PgQ0LBIg8z85EbpG6bL0PzYeQGHARfY/MivGe5fY9z8vOEyWbmv5P0rmhnU/Kes/QwCTqu1O7j8ejc/vTbrwPxqaVQolTfI/F6fbJPzf8z8UtGE/03L1PxDB51mqBfc/DM5tdIGY+D8J2/OOWCv6Pwboeakvvvs/9UXim8HO7z/4L3foN3rxP/Q8/QIPDfM/8EmDHeaf9D/tVgk4vTL2P+pjj1KUxfc/5nAVbWtY+T/ifZuHQuv6P9+KIaIZfvw/3JenvPAQ/j/R0h7hITryP87fpPv4zPM/yuwqFtBf9T/G+bAwp/L2P8MGN0t+hfg/wBO9ZVUY+j+8IEOALKv7P7ktyZoDPv0/tTpPtdrQ/j/Zo+rn2DEAQKiCTPTijPQ/pI/SDrof9j+gnFgpkbL3P52p3kNoRfk/mrZkXj/Y+j+Ww+p4Fmv8P5LQcJPt/f0/j932rcSQ/z9GdT7kzZEAQMR7gXE5WwFAfTJ6B6Tf9j96PwAie3L4P3ZMhjxSBfo/c1kMVymY+z9vZpJxACv9P2xzGIzXvf4/NEBPU1coAECyRpLgwvEAQDBN1W0uuwFAr1MY+5mEAkBT4qcaZTL5P1DvLTU8xfo/TPyzTxNY/D9ICTpq6ur9P0UWwITBff8/oRGjT0yIAEAfGObct1EBQJ0eKWojGwJAHCVs947kAkCaK6+E+q0DQCqS1S0mhfs/Jp9bSP0X/T8jrOFi1Kr+P4/cs77VHgBADuP2S0HoAECM6TnZrLEBQArwfGYYewJAiPa/84NEA0AH/QKB7w0EQIUDRg5b1wRAAEIDQefX/T/9Tolbvmr/P/ytB7vKfgBAe7RKSDZIAUD5uo3VoRECQHjB0GIN2wJA9ccT8HikA0B0zlZ95G0EQPLUmQpQNwVAcdvcl7sABkA=",
          "dtype": "f8",
          "shape": "10, 10"
         }
        },
        {
         "marker": {
          "color": "orange",
          "size": 5,
          "symbol": "diamond"
         },
         "mode": "markers",
         "name": "Punto no separable",
         "type": "scatter3d",
         "x": {
          "bdata": "Ag==",
          "dtype": "i1"
         },
         "y": {
          "bdata": "AQ==",
          "dtype": "i1"
         },
         "z": {
          "bdata": "Ag==",
          "dtype": "i1"
         }
        }
       ],
       "layout": {
        "scene": {
         "xaxis": {
          "range": [
           0,
           4
          ],
          "title": {
           "text": "X"
          }
         },
         "yaxis": {
          "range": [
           -1,
           3
          ],
          "title": {
           "text": "Y"
          }
         },
         "zaxis": {
          "range": [
           -1,
           5
          ],
          "title": {
           "text": "Z"
          }
         }
        },
        "template": {
         "data": {
          "bar": [
           {
            "error_x": {
             "color": "#2a3f5f"
            },
            "error_y": {
             "color": "#2a3f5f"
            },
            "marker": {
             "line": {
              "color": "#E5ECF6",
              "width": 0.5
             },
             "pattern": {
              "fillmode": "overlay",
              "size": 10,
              "solidity": 0.2
             }
            },
            "type": "bar"
           }
          ],
          "barpolar": [
           {
            "marker": {
             "line": {
              "color": "#E5ECF6",
              "width": 0.5
             },
             "pattern": {
              "fillmode": "overlay",
              "size": 10,
              "solidity": 0.2
             }
            },
            "type": "barpolar"
           }
          ],
          "carpet": [
           {
            "aaxis": {
             "endlinecolor": "#2a3f5f",
             "gridcolor": "white",
             "linecolor": "white",
             "minorgridcolor": "white",
             "startlinecolor": "#2a3f5f"
            },
            "baxis": {
             "endlinecolor": "#2a3f5f",
             "gridcolor": "white",
             "linecolor": "white",
             "minorgridcolor": "white",
             "startlinecolor": "#2a3f5f"
            },
            "type": "carpet"
           }
          ],
          "choropleth": [
           {
            "colorbar": {
             "outlinewidth": 0,
             "ticks": ""
            },
            "type": "choropleth"
           }
          ],
          "contour": [
           {
            "colorbar": {
             "outlinewidth": 0,
             "ticks": ""
            },
            "colorscale": [
             [
              0,
              "#0d0887"
             ],
             [
              0.1111111111111111,
              "#46039f"
             ],
             [
              0.2222222222222222,
              "#7201a8"
             ],
             [
              0.3333333333333333,
              "#9c179e"
             ],
             [
              0.4444444444444444,
              "#bd3786"
             ],
             [
              0.5555555555555556,
              "#d8576b"
             ],
             [
              0.6666666666666666,
              "#ed7953"
             ],
             [
              0.7777777777777778,
              "#fb9f3a"
             ],
             [
              0.8888888888888888,
              "#fdca26"
             ],
             [
              1,
              "#f0f921"
             ]
            ],
            "type": "contour"
           }
          ],
          "contourcarpet": [
           {
            "colorbar": {
             "outlinewidth": 0,
             "ticks": ""
            },
            "type": "contourcarpet"
           }
          ],
          "heatmap": [
           {
            "colorbar": {
             "outlinewidth": 0,
             "ticks": ""
            },
            "colorscale": [
             [
              0,
              "#0d0887"
             ],
             [
              0.1111111111111111,
              "#46039f"
             ],
             [
              0.2222222222222222,
              "#7201a8"
             ],
             [
              0.3333333333333333,
              "#9c179e"
             ],
             [
              0.4444444444444444,
              "#bd3786"
             ],
             [
              0.5555555555555556,
              "#d8576b"
             ],
             [
              0.6666666666666666,
              "#ed7953"
             ],
             [
              0.7777777777777778,
              "#fb9f3a"
             ],
             [
              0.8888888888888888,
              "#fdca26"
             ],
             [
              1,
              "#f0f921"
             ]
            ],
            "type": "heatmap"
           }
          ],
          "histogram": [
           {
            "marker": {
             "pattern": {
              "fillmode": "overlay",
              "size": 10,
              "solidity": 0.2
             }
            },
            "type": "histogram"
           }
          ],
          "histogram2d": [
           {
            "colorbar": {
             "outlinewidth": 0,
             "ticks": ""
            },
            "colorscale": [
             [
              0,
              "#0d0887"
             ],
             [
              0.1111111111111111,
              "#46039f"
             ],
             [
              0.2222222222222222,
              "#7201a8"
             ],
             [
              0.3333333333333333,
              "#9c179e"
             ],
             [
              0.4444444444444444,
              "#bd3786"
             ],
             [
              0.5555555555555556,
              "#d8576b"
             ],
             [
              0.6666666666666666,
              "#ed7953"
             ],
             [
              0.7777777777777778,
              "#fb9f3a"
             ],
             [
              0.8888888888888888,
              "#fdca26"
             ],
             [
              1,
              "#f0f921"
             ]
            ],
            "type": "histogram2d"
           }
          ],
          "histogram2dcontour": [
           {
            "colorbar": {
             "outlinewidth": 0,
             "ticks": ""
            },
            "colorscale": [
             [
              0,
              "#0d0887"
             ],
             [
              0.1111111111111111,
              "#46039f"
             ],
             [
              0.2222222222222222,
              "#7201a8"
             ],
             [
              0.3333333333333333,
              "#9c179e"
             ],
             [
              0.4444444444444444,
              "#bd3786"
             ],
             [
              0.5555555555555556,
              "#d8576b"
             ],
             [
              0.6666666666666666,
              "#ed7953"
             ],
             [
              0.7777777777777778,
              "#fb9f3a"
             ],
             [
              0.8888888888888888,
              "#fdca26"
             ],
             [
              1,
              "#f0f921"
             ]
            ],
            "type": "histogram2dcontour"
           }
          ],
          "mesh3d": [
           {
            "colorbar": {
             "outlinewidth": 0,
             "ticks": ""
            },
            "type": "mesh3d"
           }
          ],
          "parcoords": [
           {
            "line": {
             "colorbar": {
              "outlinewidth": 0,
              "ticks": ""
             }
            },
            "type": "parcoords"
           }
          ],
          "pie": [
           {
            "automargin": true,
            "type": "pie"
           }
          ],
          "scatter": [
           {
            "fillpattern": {
             "fillmode": "overlay",
             "size": 10,
             "solidity": 0.2
            },
            "type": "scatter"
           }
          ],
          "scatter3d": [
           {
            "line": {
             "colorbar": {
              "outlinewidth": 0,
              "ticks": ""
             }
            },
            "marker": {
             "colorbar": {
              "outlinewidth": 0,
              "ticks": ""
             }
            },
            "type": "scatter3d"
           }
          ],
          "scattercarpet": [
           {
            "marker": {
             "colorbar": {
              "outlinewidth": 0,
              "ticks": ""
             }
            },
            "type": "scattercarpet"
           }
          ],
          "scattergeo": [
           {
            "marker": {
             "colorbar": {
              "outlinewidth": 0,
              "ticks": ""
             }
            },
            "type": "scattergeo"
           }
          ],
          "scattergl": [
           {
            "marker": {
             "colorbar": {
              "outlinewidth": 0,
              "ticks": ""
             }
            },
            "type": "scattergl"
           }
          ],
          "scattermap": [
           {
            "marker": {
             "colorbar": {
              "outlinewidth": 0,
              "ticks": ""
             }
            },
            "type": "scattermap"
           }
          ],
          "scattermapbox": [
           {
            "marker": {
             "colorbar": {
              "outlinewidth": 0,
              "ticks": ""
             }
            },
            "type": "scattermapbox"
           }
          ],
          "scatterpolar": [
           {
            "marker": {
             "colorbar": {
              "outlinewidth": 0,
              "ticks": ""
             }
            },
            "type": "scatterpolar"
           }
          ],
          "scatterpolargl": [
           {
            "marker": {
             "colorbar": {
              "outlinewidth": 0,
              "ticks": ""
             }
            },
            "type": "scatterpolargl"
           }
          ],
          "scatterternary": [
           {
            "marker": {
             "colorbar": {
              "outlinewidth": 0,
              "ticks": ""
             }
            },
            "type": "scatterternary"
           }
          ],
          "surface": [
           {
            "colorbar": {
             "outlinewidth": 0,
             "ticks": ""
            },
            "colorscale": [
             [
              0,
              "#0d0887"
             ],
             [
              0.1111111111111111,
              "#46039f"
             ],
             [
              0.2222222222222222,
              "#7201a8"
             ],
             [
              0.3333333333333333,
              "#9c179e"
             ],
             [
              0.4444444444444444,
              "#bd3786"
             ],
             [
              0.5555555555555556,
              "#d8576b"
             ],
             [
              0.6666666666666666,
              "#ed7953"
             ],
             [
              0.7777777777777778,
              "#fb9f3a"
             ],
             [
              0.8888888888888888,
              "#fdca26"
             ],
             [
              1,
              "#f0f921"
             ]
            ],
            "type": "surface"
           }
          ],
          "table": [
           {
            "cells": {
             "fill": {
              "color": "#EBF0F8"
             },
             "line": {
              "color": "white"
             }
            },
            "header": {
             "fill": {
              "color": "#C8D4E3"
             },
             "line": {
              "color": "white"
             }
            },
            "type": "table"
           }
          ]
         },
         "layout": {
          "annotationdefaults": {
           "arrowcolor": "#2a3f5f",
           "arrowhead": 0,
           "arrowwidth": 1
          },
          "autotypenumbers": "strict",
          "coloraxis": {
           "colorbar": {
            "outlinewidth": 0,
            "ticks": ""
           }
          },
          "colorscale": {
           "diverging": [
            [
             0,
             "#8e0152"
            ],
            [
             0.1,
             "#c51b7d"
            ],
            [
             0.2,
             "#de77ae"
            ],
            [
             0.3,
             "#f1b6da"
            ],
            [
             0.4,
             "#fde0ef"
            ],
            [
             0.5,
             "#f7f7f7"
            ],
            [
             0.6,
             "#e6f5d0"
            ],
            [
             0.7,
             "#b8e186"
            ],
            [
             0.8,
             "#7fbc41"
            ],
            [
             0.9,
             "#4d9221"
            ],
            [
             1,
             "#276419"
            ]
           ],
           "sequential": [
            [
             0,
             "#0d0887"
            ],
            [
             0.1111111111111111,
             "#46039f"
            ],
            [
             0.2222222222222222,
             "#7201a8"
            ],
            [
             0.3333333333333333,
             "#9c179e"
            ],
            [
             0.4444444444444444,
             "#bd3786"
            ],
            [
             0.5555555555555556,
             "#d8576b"
            ],
            [
             0.6666666666666666,
             "#ed7953"
            ],
            [
             0.7777777777777778,
             "#fb9f3a"
            ],
            [
             0.8888888888888888,
             "#fdca26"
            ],
            [
             1,
             "#f0f921"
            ]
           ],
           "sequentialminus": [
            [
             0,
             "#0d0887"
            ],
            [
             0.1111111111111111,
             "#46039f"
            ],
            [
             0.2222222222222222,
             "#7201a8"
            ],
            [
             0.3333333333333333,
             "#9c179e"
            ],
            [
             0.4444444444444444,
             "#bd3786"
            ],
            [
             0.5555555555555556,
             "#d8576b"
            ],
            [
             0.6666666666666666,
             "#ed7953"
            ],
            [
             0.7777777777777778,
             "#fb9f3a"
            ],
            [
             0.8888888888888888,
             "#fdca26"
            ],
            [
             1,
             "#f0f921"
            ]
           ]
          },
          "colorway": [
           "#636efa",
           "#EF553B",
           "#00cc96",
           "#ab63fa",
           "#FFA15A",
           "#19d3f3",
           "#FF6692",
           "#B6E880",
           "#FF97FF",
           "#FECB52"
          ],
          "font": {
           "color": "#2a3f5f"
          },
          "geo": {
           "bgcolor": "white",
           "lakecolor": "white",
           "landcolor": "#E5ECF6",
           "showlakes": true,
           "showland": true,
           "subunitcolor": "white"
          },
          "hoverlabel": {
           "align": "left"
          },
          "hovermode": "closest",
          "mapbox": {
           "style": "light"
          },
          "paper_bgcolor": "white",
          "plot_bgcolor": "#E5ECF6",
          "polar": {
           "angularaxis": {
            "gridcolor": "white",
            "linecolor": "white",
            "ticks": ""
           },
           "bgcolor": "#E5ECF6",
           "radialaxis": {
            "gridcolor": "white",
            "linecolor": "white",
            "ticks": ""
           }
          },
          "scene": {
           "xaxis": {
            "backgroundcolor": "#E5ECF6",
            "gridcolor": "white",
            "gridwidth": 2,
            "linecolor": "white",
            "showbackground": true,
            "ticks": "",
            "zerolinecolor": "white"
           },
           "yaxis": {
            "backgroundcolor": "#E5ECF6",
            "gridcolor": "white",
            "gridwidth": 2,
            "linecolor": "white",
            "showbackground": true,
            "ticks": "",
            "zerolinecolor": "white"
           },
           "zaxis": {
            "backgroundcolor": "#E5ECF6",
            "gridcolor": "white",
            "gridwidth": 2,
            "linecolor": "white",
            "showbackground": true,
            "ticks": "",
            "zerolinecolor": "white"
           }
          },
          "shapedefaults": {
           "line": {
            "color": "#2a3f5f"
           }
          },
          "ternary": {
           "aaxis": {
            "gridcolor": "white",
            "linecolor": "white",
            "ticks": ""
           },
           "baxis": {
            "gridcolor": "white",
            "linecolor": "white",
            "ticks": ""
           },
           "bgcolor": "#E5ECF6",
           "caxis": {
            "gridcolor": "white",
            "linecolor": "white",
            "ticks": ""
           }
          },
          "title": {
           "x": 0.05
          },
          "xaxis": {
           "automargin": true,
           "gridcolor": "white",
           "linecolor": "white",
           "ticks": "",
           "title": {
            "standoff": 15
           },
           "zerolinecolor": "white",
           "zerolinewidth": 2
          },
          "yaxis": {
           "automargin": true,
           "gridcolor": "white",
           "linecolor": "white",
           "ticks": "",
           "title": {
            "standoff": 15
           },
           "zerolinecolor": "white",
           "zerolinewidth": 2
          }
         }
        },
        "title": {
         "text": "Separación SVM 3D - Visualización Ajustada"
        }
       }
      }
     },
     "metadata": {},
     "output_type": "display_data"
    }
   ],
   "source": [
    "df = pd.DataFrame({\n",
    "    'x': [1, 1, 1, 3, 1, 3, 1, 3, 1],\n",
    "    'y': [0, 0, 1, 1, 1, 2, 2, 2, 1],\n",
    "    'z': [1, 2, 2, 4, 3, 3, 1, 1, 0],\n",
    "    'clase': ['Rojo'] * 5 + ['Azul'] * 4\n",
    "})\n",
    "df['clase_cod'] = np.where(df['clase'] == 'Azul', -1, 1)\n",
    "\n",
    "# Escalamiento\n",
    "scaler = StandardScaler()\n",
    "X_scaled = scaler.fit_transform(df[['x', 'y', 'z']])\n",
    "y = df['clase_cod']\n",
    "\n",
    "# Modelo SVM\n",
    "model = SVC(kernel='linear')\n",
    "model.fit(X_scaled, y)\n",
    "w = model.coef_[0]\n",
    "b = model.intercept_[0]\n",
    "\n",
    "# Vectores de soporte\n",
    "support_vectors = df.iloc[model.support_]\n",
    "\n",
    "# Hiperplano óptimo\n",
    "x_range = np.linspace(df['x'].min(), df['x'].max(), 10)\n",
    "y_range = np.linspace(df['y'].min(), df['y'].max(), 10)\n",
    "x_mesh, y_mesh = np.meshgrid(x_range, y_range)\n",
    "xy_flat = np.c_[x_mesh.ravel(), y_mesh.ravel(), np.zeros_like(x_mesh.ravel())]\n",
    "xy_scaled = scaler.transform(xy_flat)\n",
    "z_scaled = (-w[0] * xy_scaled[:, 0] - w[1] * xy_scaled[:, 1] - b) / w[2]\n",
    "z_plane = scaler.inverse_transform(np.c_[xy_scaled[:, 0], xy_scaled[:, 1], z_scaled])[:, 2].reshape(x_mesh.shape)\n",
    "\n",
    "# Hiperplano no óptimo (ligera inclinación)\n",
    "wn = w.copy()\n",
    "wn[2] += 1\n",
    "bn = b + 0.5\n",
    "zn_scaled = (-wn[0] * xy_scaled[:, 0] - wn[1] * xy_scaled[:, 1] - bn) / wn[2]\n",
    "zn_plane = scaler.inverse_transform(np.c_[xy_scaled[:, 0], xy_scaled[:, 1], zn_scaled])[:, 2].reshape(x_mesh.shape)\n",
    "\n",
    "# Punto adicional que rompe la separabilidad\n",
    "punto_extra = pd.DataFrame({'x': [2], 'y': [1], 'z': [2], 'clase': ['Rojo'], 'clase_cod': [1]})\n",
    "\n",
    "# Gráfico\n",
    "fig = go.Figure()\n",
    "\n",
    "# Puntos por clase\n",
    "for clase, color in zip(['Rojo', 'Azul'], ['red', 'blue']):\n",
    "    sub = df[df['clase'] == clase]\n",
    "    fig.add_trace(go.Scatter3d(\n",
    "        x=sub['x'], y=sub['y'], z=sub['z'],\n",
    "        mode='markers',\n",
    "        marker=dict(size=3, color=color),\n",
    "        name=f'Clase {clase}'\n",
    "    ))\n",
    "\n",
    "# Vectores de soporte\n",
    "fig.add_trace(go.Scatter3d(\n",
    "    x=support_vectors['x'], y=support_vectors['y'], z=support_vectors['z'],\n",
    "    mode='markers',\n",
    "    marker=dict(size=4, color='black', symbol='x'),\n",
    "    name='Vectores de soporte'\n",
    "))\n",
    "\n",
    "# Hiperplano óptimo\n",
    "fig.add_trace(go.Surface(\n",
    "    x=x_mesh, y=y_mesh, z=z_plane,\n",
    "    colorscale='Greys',\n",
    "    opacity=0.4,\n",
    "    showscale=False,\n",
    "    name='Hiperplano óptimo'\n",
    "))\n",
    "\n",
    "# Hiperplano no óptimo\n",
    "fig.add_trace(go.Surface(\n",
    "    x=x_mesh, y=y_mesh, z=zn_plane,\n",
    "    colorscale='Blues',\n",
    "    opacity=0.3,\n",
    "    showscale=False,\n",
    "    name='No óptimo'\n",
    "))\n",
    "\n",
    "# Punto que rompe separabilidad\n",
    "fig.add_trace(go.Scatter3d(\n",
    "    x=punto_extra['x'], y=punto_extra['y'], z=punto_extra['z'],\n",
    "    mode='markers',\n",
    "    marker=dict(size=5, color='orange', symbol='diamond'),\n",
    "    name='Punto no separable'\n",
    "))\n",
    "\n",
    "# Configuración de ejes extendidos\n",
    "fig.update_layout(\n",
    "    title='Separación SVM 3D - Visualización Ajustada',\n",
    "    scene=dict(\n",
    "        xaxis=dict(title='X', range=[0, 4]),\n",
    "        yaxis=dict(title='Y', range=[-1, 3]),\n",
    "        zaxis=dict(title='Z', range=[-1, 5])\n",
    "    )\n",
    ")\n",
    "\n",
    "fig.show()\n"
   ]
  },
  {
   "cell_type": "code",
   "execution_count": null,
   "id": "44e36adf",
   "metadata": {},
   "outputs": [
    {
     "name": "stderr",
     "output_type": "stream",
     "text": [
      "/home/codespace/.local/lib/python3.12/site-packages/sklearn/discriminant_analysis.py:1024: LinAlgWarning:\n",
      "\n",
      "The covariance matrix of class 0 is not full rank. Increasing the value of parameter `reg_param` might help reducing the collinearity.\n",
      "\n",
      "/home/codespace/.local/lib/python3.12/site-packages/sklearn/discriminant_analysis.py:1024: LinAlgWarning:\n",
      "\n",
      "The covariance matrix of class 1 is not full rank. Increasing the value of parameter `reg_param` might help reducing the collinearity.\n",
      "\n"
     ]
    },
    {
     "name": "stdout",
     "output_type": "stream",
     "text": [
      "Comparación de Modelos:\n",
      "\n",
      "              Modelo  Precisión Global  Error Global  Precisión Positiva (PP)  \\\n",
      "0                LDA             0.782         0.218                    0.826   \n",
      "1                QDA             0.685         0.315                    0.871   \n",
      "2        Naive Bayes             0.677         0.323                    0.903   \n",
      "3  Árbol de Decisión             0.698         0.302                    0.756   \n",
      "4   Bosque Aleatorio             0.768         0.232                    0.822   \n",
      "5                SVM             0.754         0.246                    0.821   \n",
      "\n",
      "   Precisión Negativa (PN)  \n",
      "0                    0.692  \n",
      "1                    0.526  \n",
      "2                    0.517  \n",
      "3                    0.566  \n",
      "4                    0.663  \n",
      "5                    0.634  \n"
     ]
    }
   ],
   "source": [
    "# Pregunta 3: SVM y comparación con modelos anteriores\n",
    "\n",
    "# === a) Cargar y preparar los datos ===\n",
    "df = pd.read_csv(\"novatosNBA.csv\")\n",
    "df = df.drop(columns=['Unnamed: 0', 'Player'], errors='ignore')\n",
    "df = pd.get_dummies(df, columns=['Team', 'Conf', 'Year'], drop_first=True)\n",
    "df.dropna(inplace=True)\n",
    "\n",
    "X = df.drop(columns=['Target'])\n",
    "y = df['Target']\n",
    "\n",
    "X_train, X_test, y_train, y_test = train_test_split(X, y, test_size=0.2, random_state=42)\n",
    "\n",
    "# === Modelos a evaluar ===\n",
    "modelos = {\n",
    "    \"LDA\": LDA(),\n",
    "    \"QDA\": QDA(),\n",
    "    \"Naive Bayes\": GaussianNB(),\n",
    "    \"Árbol de Decisión\": DecisionTreeClassifier(random_state=42),\n",
    "    \"Bosque Aleatorio\": RandomForestClassifier(random_state=42),\n",
    "    \"SVM\": SVC()\n",
    "}\n",
    "\n",
    "# === b) Métricas ===\n",
    "resultados = []\n",
    "\n",
    "for nombre, modelo in modelos.items():\n",
    "    modelo.fit(X_train, y_train)\n",
    "    y_pred = modelo.predict(X_test)\n",
    "    acc = accuracy_score(y_test, y_pred)\n",
    "    error = 1 - acc\n",
    "    cm = confusion_matrix(y_test, y_pred)\n",
    "    if cm.shape == (2, 2):\n",
    "        TN, FP, FN, TP = cm.ravel()\n",
    "        PP = TP / (TP + FP) if (TP + FP) > 0 else 0\n",
    "        PN = TN / (TN + FN) if (TN + FN) > 0 else 0\n",
    "    else:\n",
    "        PP = PN = np.nan\n",
    "    resultados.append({\n",
    "        \"Modelo\": nombre,\n",
    "        \"Precisión Global\": round(acc, 3),\n",
    "        \"Error Global\": round(error, 3),\n",
    "        \"Precisión Positiva (PP)\": round(PP, 3),\n",
    "        \"Precisión Negativa (PN)\": round(PN, 3)\n",
    "    })\n",
    "\n",
    "# Mostrar resultados en DataFrame\n",
    "print(\"Comparación de Modelos:\\n\")\n",
    "df_resultados = pd.DataFrame(resultados)\n",
    "print(df_resultados)\n",
    "\n",
    "### Análisis de Resultados y Comparación de Modelos (Pregunta 3: novatosNBA.csv)\n",
    "\n",
    "# - **Mejor modelo:**  \n",
    "#   El modelo LDA tiene la mayor Precisión Global (0.782) y un buen balance entre Precisión Positiva (0.826) y Precisión Negativa (0.692). SVM y Bosque Aleatorio también muestran buen desempeño, pero LDA es el más equilibrado.\n",
    "# - **Interpretación:**  \n",
    "#   LDA es el modelo más robusto para este conjunto de datos, aunque SVM y Bosque Aleatorio son alternativas válidas. QDA y Naive Bayes tienen alta Precisión Positiva pero baja Precisión Negativa, lo que puede ser problemático si es importante identificar correctamente ambas clases.\n"
   ]
  },
  {
   "cell_type": "code",
   "execution_count": null,
   "id": "658c2c8b",
   "metadata": {},
   "outputs": [
    {
     "name": "stdout",
     "output_type": "stream",
     "text": [
      "\n",
      "Modelo: LDA\n",
      "Matriz de confusión:\n",
      "[[96 27]\n",
      " [25 44]]\n",
      "Reporte por clase:\n",
      "              precision    recall  f1-score   support\n",
      "\n",
      "           0       0.79      0.78      0.79       123\n",
      "           1       0.62      0.64      0.63        69\n",
      "\n",
      "    accuracy                           0.73       192\n",
      "   macro avg       0.71      0.71      0.71       192\n",
      "weighted avg       0.73      0.73      0.73       192\n",
      "\n",
      "\n",
      "Modelo: QDA\n",
      "Matriz de confusión:\n",
      "[[99 24]\n",
      " [21 48]]\n",
      "Reporte por clase:\n",
      "              precision    recall  f1-score   support\n",
      "\n",
      "           0       0.82      0.80      0.81       123\n",
      "           1       0.67      0.70      0.68        69\n",
      "\n",
      "    accuracy                           0.77       192\n",
      "   macro avg       0.75      0.75      0.75       192\n",
      "weighted avg       0.77      0.77      0.77       192\n",
      "\n",
      "\n",
      "Modelo: Naive Bayes\n",
      "Matriz de confusión:\n",
      "[[94 29]\n",
      " [22 47]]\n",
      "Reporte por clase:\n",
      "              precision    recall  f1-score   support\n",
      "\n",
      "           0       0.81      0.76      0.79       123\n",
      "           1       0.62      0.68      0.65        69\n",
      "\n",
      "    accuracy                           0.73       192\n",
      "   macro avg       0.71      0.72      0.72       192\n",
      "weighted avg       0.74      0.73      0.74       192\n",
      "\n",
      "\n",
      "Modelo: Árbol de Decisión\n",
      "Matriz de confusión:\n",
      "[[87 36]\n",
      " [20 49]]\n",
      "Reporte por clase:\n",
      "              precision    recall  f1-score   support\n",
      "\n",
      "           0       0.81      0.71      0.76       123\n",
      "           1       0.58      0.71      0.64        69\n",
      "\n",
      "    accuracy                           0.71       192\n",
      "   macro avg       0.69      0.71      0.70       192\n",
      "weighted avg       0.73      0.71      0.71       192\n",
      "\n",
      "\n",
      "Modelo: Bosque Aleatorio\n",
      "Matriz de confusión:\n",
      "[[96 27]\n",
      " [24 45]]\n",
      "Reporte por clase:\n",
      "              precision    recall  f1-score   support\n",
      "\n",
      "           0       0.80      0.78      0.79       123\n",
      "           1       0.62      0.65      0.64        69\n",
      "\n",
      "    accuracy                           0.73       192\n",
      "   macro avg       0.71      0.72      0.71       192\n",
      "weighted avg       0.74      0.73      0.74       192\n",
      "\n",
      "\n",
      "Modelo: SVM\n",
      "Matriz de confusión:\n",
      "[[106  17]\n",
      " [ 35  34]]\n",
      "Reporte por clase:\n",
      "              precision    recall  f1-score   support\n",
      "\n",
      "           0       0.75      0.86      0.80       123\n",
      "           1       0.67      0.49      0.57        69\n",
      "\n",
      "    accuracy                           0.73       192\n",
      "   macro avg       0.71      0.68      0.68       192\n",
      "weighted avg       0.72      0.73      0.72       192\n",
      "\n",
      "\n",
      "Comparación de modelos:\n",
      "              Modelo  Precisión Global  Error Global  Precisión Positiva (PP)  \\\n",
      "0                LDA             0.729         0.271                    0.620   \n",
      "1                QDA             0.766         0.234                    0.667   \n",
      "2        Naive Bayes             0.734         0.266                    0.618   \n",
      "3  Árbol de Decisión             0.708         0.292                    0.576   \n",
      "4   Bosque Aleatorio             0.734         0.266                    0.625   \n",
      "5                SVM             0.729         0.271                    0.667   \n",
      "\n",
      "   Precisión Negativa (PN)  \n",
      "0                    0.793  \n",
      "1                    0.825  \n",
      "2                    0.810  \n",
      "3                    0.813  \n",
      "4                    0.800  \n",
      "5                    0.752  \n"
     ]
    }
   ],
   "source": [
    "# Pregunta 4: Análisis con LDA, QDA, Naive Bayes usando diabetes.csv\n",
    "\n",
    "# === a) Cargar los datos ===\n",
    "df = pd.read_csv(\"diabetes.csv\")\n",
    "X = df.drop(columns=[\"Outcome\"])\n",
    "y = df[\"Outcome\"]\n",
    "\n",
    "# === b) División entrenamiento (75%) y prueba (25%) ===\n",
    "X_train, X_test, y_train, y_test = train_test_split(\n",
    "    X, y, test_size=0.25, random_state=42\n",
    ")\n",
    "\n",
    "# Modelos a evaluar\n",
    "modelos = {\n",
    "    \"LDA\": LDA(),\n",
    "    \"QDA\": QDA(),\n",
    "    \"Naive Bayes\": GaussianNB(),\n",
    "    \"Árbol de Decisión\": DecisionTreeClassifier(random_state=42),\n",
    "    \"Bosque Aleatorio\": RandomForestClassifier(random_state=42),\n",
    "    \"SVM\": SVC(probability=True, random_state=42)\n",
    "}\n",
    "\n",
    "resultados = []\n",
    "\n",
    "for nombre, modelo in modelos.items():\n",
    "    modelo.fit(X_train, y_train)\n",
    "    y_pred = modelo.predict(X_test)\n",
    "    acc = accuracy_score(y_test, y_pred)\n",
    "    error = 1 - acc\n",
    "    cm = confusion_matrix(y_test, y_pred)\n",
    "    if cm.shape == (2, 2):\n",
    "        TN, FP, FN, TP = cm.ravel()\n",
    "        PP = TP / (TP + FP) if (TP + FP) > 0 else 0\n",
    "        PN = TN / (TN + FN) if (TN + FN) > 0 else 0\n",
    "    else:\n",
    "        PP = PN = np.nan\n",
    "    print(f\"\\nModelo: {nombre}\")\n",
    "    print(\"Matriz de confusión:\")\n",
    "    print(cm)\n",
    "    print(\"Reporte por clase:\")\n",
    "    print(classification_report(y_test, y_pred))\n",
    "    resultados.append({\n",
    "        \"Modelo\": nombre,\n",
    "        \"Precisión Global\": round(acc, 3),\n",
    "        \"Error Global\": round(error, 3),\n",
    "        \"Precisión Positiva (PP)\": round(PP, 3),\n",
    "        \"Precisión Negativa (PN)\": round(PN, 3)\n",
    "    })\n",
    "\n",
    "# Mostrar comparación en DataFrame\n",
    "print(\"\\nComparación de modelos:\")\n",
    "df_resultados = pd.DataFrame(resultados)\n",
    "print(df_resultados)\n",
    "\n",
    "### Análisis de Resultados y Comparación de Modelos (Pregunta 4: diabetes.csv)\n",
    "\n",
    "# - **Con todas las variables:**  \n",
    "#   QDA es el mejor modelo (Precisión Global 0.766, PP 0.667, PN 0.825), seguido de LDA y SVM. SVM tiene un buen balance, pero su Precisión Negativa es menor (0.752).\n",
    "# - **Con 6 variables más importantes:**  \n",
    "#   Las variables seleccionadas son: `Glucose`, `BMI`, `Age`, `DiabetesPedigreeFunction`, `BloodPressure`, `Pregnancies`.  \n",
    "#   QDA sigue siendo el mejor modelo (Precisión Global 0.76, PP 0.67, PN 0.83), y SVM mantiene un desempeño similar.\n",
    "# - **Conclusión:**  \n",
    "#   Reducir a 6 variables no afecta negativamente el desempeño, e incluso puede mejorar la interpretabilidad y eficiencia del modelo.\n"
   ]
  },
  {
   "cell_type": "code",
   "execution_count": 5,
   "id": "e189e2aa",
   "metadata": {},
   "outputs": [],
   "source": [
    "def evaluar_modelos(X_train, X_test, y_train, y_test, modelos, verbose=False):\n",
    "    resultados = []\n",
    "    probabilidades = {}\n",
    "\n",
    "    for nombre, modelo in modelos.items():\n",
    "        modelo.fit(X_train, y_train)\n",
    "        y_pred = modelo.predict(X_test)\n",
    "        # Probabilidades para ROC si existen\n",
    "        if hasattr(modelo, \"predict_proba\"):\n",
    "            probas = modelo.predict_proba(X_test)[:, 1]\n",
    "        elif hasattr(modelo, \"decision_function\"):\n",
    "            probas = modelo.decision_function(X_test)\n",
    "        else:\n",
    "            probas = None\n",
    "        acc = accuracy_score(y_test, y_pred)\n",
    "        error = 1 - acc\n",
    "        cm = confusion_matrix(y_test, y_pred)\n",
    "        if cm.shape == (2, 2):\n",
    "            TN, FP, FN, TP = cm.ravel()\n",
    "            PP = TP / (TP + FP) if (TP + FP) > 0 else 0\n",
    "            PN = TN / (TN + FN) if (TN + FN) > 0 else 0\n",
    "        else:\n",
    "            PP = PN = np.nan\n",
    "        if verbose:\n",
    "            print(f\"\\nModelo: {nombre}\")\n",
    "            print(\"Matriz de confusión:\")\n",
    "            print(cm)\n",
    "            print(\"Reporte por clase:\")\n",
    "            print(classification_report(y_test, y_pred))\n",
    "        resultados.append({\n",
    "            \"Modelo\": nombre,\n",
    "            \"Precisión Global\": round(acc, 3),\n",
    "            \"Error Global\": round(error, 3),\n",
    "            \"Precisión Positiva (PP)\": round(PP, 3),\n",
    "            \"Precisión Negativa (PN)\": round(PN, 3)\n",
    "        })\n",
    "        if probas is not None:\n",
    "            probabilidades[nombre] = (y_test, probas)\n",
    "    return pd.DataFrame(resultados), probabilidades\n"
   ]
  },
  {
   "cell_type": "code",
   "execution_count": 6,
   "id": "cb31139f",
   "metadata": {},
   "outputs": [
    {
     "name": "stdout",
     "output_type": "stream",
     "text": [
      "\n",
      "Modelo: LDA\n",
      "Matriz de confusión:\n",
      "[[96 27]\n",
      " [25 44]]\n",
      "Reporte por clase:\n",
      "              precision    recall  f1-score   support\n",
      "\n",
      "           0       0.79      0.78      0.79       123\n",
      "           1       0.62      0.64      0.63        69\n",
      "\n",
      "    accuracy                           0.73       192\n",
      "   macro avg       0.71      0.71      0.71       192\n",
      "weighted avg       0.73      0.73      0.73       192\n",
      "\n",
      "\n",
      "Modelo: QDA\n",
      "Matriz de confusión:\n",
      "[[99 24]\n",
      " [21 48]]\n",
      "Reporte por clase:\n",
      "              precision    recall  f1-score   support\n",
      "\n",
      "           0       0.82      0.80      0.81       123\n",
      "           1       0.67      0.70      0.68        69\n",
      "\n",
      "    accuracy                           0.77       192\n",
      "   macro avg       0.75      0.75      0.75       192\n",
      "weighted avg       0.77      0.77      0.77       192\n",
      "\n",
      "\n",
      "Modelo: Naive Bayes\n",
      "Matriz de confusión:\n",
      "[[94 29]\n",
      " [22 47]]\n",
      "Reporte por clase:\n",
      "              precision    recall  f1-score   support\n",
      "\n",
      "           0       0.81      0.76      0.79       123\n",
      "           1       0.62      0.68      0.65        69\n",
      "\n",
      "    accuracy                           0.73       192\n",
      "   macro avg       0.71      0.72      0.72       192\n",
      "weighted avg       0.74      0.73      0.74       192\n",
      "\n",
      "\n",
      "Modelo: Árbol de Decisión\n",
      "Matriz de confusión:\n",
      "[[87 36]\n",
      " [20 49]]\n",
      "Reporte por clase:\n",
      "              precision    recall  f1-score   support\n",
      "\n",
      "           0       0.81      0.71      0.76       123\n",
      "           1       0.58      0.71      0.64        69\n",
      "\n",
      "    accuracy                           0.71       192\n",
      "   macro avg       0.69      0.71      0.70       192\n",
      "weighted avg       0.73      0.71      0.71       192\n",
      "\n",
      "\n",
      "Modelo: Bosque Aleatorio\n",
      "Matriz de confusión:\n",
      "[[96 27]\n",
      " [24 45]]\n",
      "Reporte por clase:\n",
      "              precision    recall  f1-score   support\n",
      "\n",
      "           0       0.80      0.78      0.79       123\n",
      "           1       0.62      0.65      0.64        69\n",
      "\n",
      "    accuracy                           0.73       192\n",
      "   macro avg       0.71      0.72      0.71       192\n",
      "weighted avg       0.74      0.73      0.74       192\n",
      "\n",
      "\n",
      "Modelo: SVM\n",
      "Matriz de confusión:\n",
      "[[106  17]\n",
      " [ 35  34]]\n",
      "Reporte por clase:\n",
      "              precision    recall  f1-score   support\n",
      "\n",
      "           0       0.75      0.86      0.80       123\n",
      "           1       0.67      0.49      0.57        69\n",
      "\n",
      "    accuracy                           0.73       192\n",
      "   macro avg       0.71      0.68      0.68       192\n",
      "weighted avg       0.72      0.73      0.72       192\n",
      "\n",
      "Top 6 variables más importantes:\n",
      "['Glucose', 'BMI', 'Age', 'DiabetesPedigreeFunction', 'BloodPressure', 'Pregnancies']\n",
      "\n",
      "Modelo: LDA\n",
      "Matriz de confusión:\n",
      "[[97 26]\n",
      " [26 43]]\n",
      "Reporte por clase:\n",
      "              precision    recall  f1-score   support\n",
      "\n",
      "           0       0.79      0.79      0.79       123\n",
      "           1       0.62      0.62      0.62        69\n",
      "\n",
      "    accuracy                           0.73       192\n",
      "   macro avg       0.71      0.71      0.71       192\n",
      "weighted avg       0.73      0.73      0.73       192\n",
      "\n",
      "\n",
      "Modelo: QDA\n",
      "Matriz de confusión:\n",
      "[[100  23]\n",
      " [ 23  46]]\n",
      "Reporte por clase:\n",
      "              precision    recall  f1-score   support\n",
      "\n",
      "           0       0.81      0.81      0.81       123\n",
      "           1       0.67      0.67      0.67        69\n",
      "\n",
      "    accuracy                           0.76       192\n",
      "   macro avg       0.74      0.74      0.74       192\n",
      "weighted avg       0.76      0.76      0.76       192\n",
      "\n",
      "\n",
      "Modelo: Naive Bayes\n",
      "Matriz de confusión:\n",
      "[[93 30]\n",
      " [23 46]]\n",
      "Reporte por clase:\n",
      "              precision    recall  f1-score   support\n",
      "\n",
      "           0       0.80      0.76      0.78       123\n",
      "           1       0.61      0.67      0.63        69\n",
      "\n",
      "    accuracy                           0.72       192\n",
      "   macro avg       0.70      0.71      0.71       192\n",
      "weighted avg       0.73      0.72      0.73       192\n",
      "\n",
      "\n",
      "Modelo: Árbol de Decisión\n",
      "Matriz de confusión:\n",
      "[[80 43]\n",
      " [25 44]]\n",
      "Reporte por clase:\n",
      "              precision    recall  f1-score   support\n",
      "\n",
      "           0       0.76      0.65      0.70       123\n",
      "           1       0.51      0.64      0.56        69\n",
      "\n",
      "    accuracy                           0.65       192\n",
      "   macro avg       0.63      0.64      0.63       192\n",
      "weighted avg       0.67      0.65      0.65       192\n",
      "\n",
      "\n",
      "Modelo: Bosque Aleatorio\n",
      "Matriz de confusión:\n",
      "[[98 25]\n",
      " [23 46]]\n",
      "Reporte por clase:\n",
      "              precision    recall  f1-score   support\n",
      "\n",
      "           0       0.81      0.80      0.80       123\n",
      "           1       0.65      0.67      0.66        69\n",
      "\n",
      "    accuracy                           0.75       192\n",
      "   macro avg       0.73      0.73      0.73       192\n",
      "weighted avg       0.75      0.75      0.75       192\n",
      "\n",
      "\n",
      "Modelo: SVM\n",
      "Matriz de confusión:\n",
      "[[104  19]\n",
      " [ 30  39]]\n",
      "Reporte por clase:\n",
      "              precision    recall  f1-score   support\n",
      "\n",
      "           0       0.78      0.85      0.81       123\n",
      "           1       0.67      0.57      0.61        69\n",
      "\n",
      "    accuracy                           0.74       192\n",
      "   macro avg       0.72      0.71      0.71       192\n",
      "weighted avg       0.74      0.74      0.74       192\n",
      "\n"
     ]
    }
   ],
   "source": [
    "# 1. Evaluación con todas las variables\n",
    "X_train, X_test, y_train, y_test = train_test_split(X, y, test_size=0.25, random_state=42)\n",
    "df_resultados_todas, probas_todas = evaluar_modelos(X_train, X_test, y_train, y_test, modelos, verbose=True)\n",
    "\n",
    "# Entrenar Random Forest para obtener importancia de variables\n",
    "modelo_rf_full = RandomForestClassifier(random_state=42)\n",
    "modelo_rf_full.fit(X, y)\n",
    "\n",
    "# Calcular importancias\n",
    "importancias = pd.Series(modelo_rf_full.feature_importances_, index=X.columns)\n",
    "top6_vars = importancias.sort_values(ascending=False).head(6).index.tolist()\n",
    "print(\"Top 6 variables más importantes:\")\n",
    "print(top6_vars)\n",
    "\n",
    "# 2. Evaluación con top 6 variables\n",
    "X6 = X[top6_vars]\n",
    "X6_train, X6_test, y6_train, y6_test = train_test_split(X6, y, test_size=0.25, random_state=42)\n",
    "df_resultados_6vars, probas_6vars = evaluar_modelos(X6_train, X6_test, y6_train, y6_test, modelos, verbose=True)\n"
   ]
  },
  {
   "cell_type": "code",
   "execution_count": 7,
   "id": "d32aa915",
   "metadata": {},
   "outputs": [
    {
     "data": {
      "image/png": "[encoded data removed]",
      "text/plain": [
       "<Figure size 800x600 with 1 Axes>"
      ]
     },
     "metadata": {},
     "output_type": "display_data"
    }
   ],
   "source": [
    "plt.figure(figsize=(8, 6))\n",
    "for nombre, (y_true, scores) in probas_todas.items():\n",
    "    fpr, tpr, _ = roc_curve(y_true, scores)\n",
    "    auc = roc_auc_score(y_true, scores)\n",
    "    plt.plot(fpr, tpr, label=f'{nombre} (AUC = {auc:.3f})')\n",
    "plt.plot([0, 1], [0, 1], 'k--', label='Aleatorio')\n",
    "plt.xlabel('Tasa de Falsos Positivos (FPR)')\n",
    "plt.ylabel('Tasa de Verdaderos Positivos (TPR)')\n",
    "plt.title('Curvas ROC - Todas las variables')\n",
    "plt.legend()\n",
    "plt.grid(True)\n",
    "plt.show()\n"
   ]
  },
  {
   "cell_type": "code",
   "execution_count": 8,
   "id": "9714c4a0",
   "metadata": {},
   "outputs": [
    {
     "data": {
      "image/png": "[encoded data removed]",
      "text/plain": [
       "<Figure size 1000x700 with 1 Axes>"
      ]
     },
     "metadata": {},
     "output_type": "display_data"
    }
   ],
   "source": [
    "import matplotlib.pyplot as plt\n",
    "from sklearn.metrics import roc_curve, roc_auc_score\n",
    "\n",
    "plt.figure(figsize=(10, 7))\n",
    "for nombre, (y_true, scores) in probas_6vars.items():\n",
    "    fpr, tpr, _ = roc_curve(y_true, scores)\n",
    "    auc = roc_auc_score(y_true, scores)\n",
    "    plt.plot(fpr, tpr, label=f'{nombre} (AUC = {auc:.3f})')\n",
    "plt.plot([0, 1], [0, 1], 'k--', label='Aleatorio')\n",
    "plt.xlabel('FPR')\n",
    "plt.ylabel('TPR')\n",
    "plt.title('Curvas ROC - 6 Variables')\n",
    "plt.legend()\n",
    "plt.grid(True)\n",
    "plt.show()\n"
   ]
  },
  {
   "cell_type": "markdown",
   "id": "b175887b",
   "metadata": {},
   "source": [
    "## Pregunta 5"
   ]
  },
  {
   "cell_type": "code",
   "execution_count": 9,
   "id": "e2f1780e",
   "metadata": {},
   "outputs": [],
   "source": [
    "# a) Cargar datos\n",
    "import pandas as pd\n",
    "from sklearn.model_selection import train_test_split\n",
    "\n",
    "df = pd.read_csv(\"novatosNBA.csv\")\n",
    "df = df.drop(columns=[\"Unnamed: 0\", \"Player\"], errors='ignore')\n",
    "df = pd.get_dummies(df, columns=[\"Team\", \"Year\", \"Conf\"], drop_first=True)\n",
    "df.dropna(inplace=True)\n",
    "\n",
    "X = df.drop(columns=[\"Target\"])\n",
    "y = df[\"Target\"]\n",
    "\n",
    "# b) Separar 80% entrenamiento, 20% prueba\n",
    "X_train, X_test, y_train, y_test = train_test_split(X, y, test_size=0.2, random_state=42, stratify=y)\n"
   ]
  },
  {
   "cell_type": "code",
   "execution_count": null,
   "id": "3bb00519",
   "metadata": {},
   "outputs": [
    {
     "name": "stdout",
     "output_type": "stream",
     "text": [
      "Calibrando modelo: LDA\n"
     ]
    },
    {
     "name": "stderr",
     "output_type": "stream",
     "text": [
      "/home/codespace/.local/lib/python3.12/site-packages/sklearn/model_selection/_search.py:317: UserWarning:\n",
      "\n",
      "The total space of parameters 1 is smaller than n_iter=10. Running 1 iterations. For exhaustive searches, use GridSearchCV.\n",
      "\n"
     ]
    },
    {
     "name": "stdout",
     "output_type": "stream",
     "text": [
      "Mejor puntuación: 0.762\n",
      "Mejores parámetros: {}\n",
      "Calibrando modelo: QDA\n"
     ]
    },
    {
     "name": "stderr",
     "output_type": "stream",
     "text": [
      "/home/codespace/.local/lib/python3.12/site-packages/sklearn/model_selection/_search.py:317: UserWarning:\n",
      "\n",
      "The total space of parameters 1 is smaller than n_iter=10. Running 1 iterations. For exhaustive searches, use GridSearchCV.\n",
      "\n",
      "/home/codespace/.local/lib/python3.12/site-packages/sklearn/discriminant_analysis.py:1024: LinAlgWarning: The covariance matrix of class 0 is not full rank. Increasing the value of parameter `reg_param` might help reducing the collinearity.\n",
      "  warnings.warn(\n",
      "/home/codespace/.local/lib/python3.12/site-packages/sklearn/discriminant_analysis.py:1024: LinAlgWarning: The covariance matrix of class 0 is not full rank. Increasing the value of parameter `reg_param` might help reducing the collinearity.\n",
      "  warnings.warn(\n",
      "/home/codespace/.local/lib/python3.12/site-packages/sklearn/discriminant_analysis.py:1024: LinAlgWarning: The covariance matrix of class 1 is not full rank. Increasing the value of parameter `reg_param` might help reducing the collinearity.\n",
      "  warnings.warn(\n",
      "/home/codespace/.local/lib/python3.12/site-packages/sklearn/discriminant_analysis.py:1024: LinAlgWarning: The covariance matrix of class 0 is not full rank. Increasing the value of parameter `reg_param` might help reducing the collinearity.\n",
      "  warnings.warn(\n",
      "/home/codespace/.local/lib/python3.12/site-packages/sklearn/discriminant_analysis.py:1024: LinAlgWarning: The covariance matrix of class 1 is not full rank. Increasing the value of parameter `reg_param` might help reducing the collinearity.\n",
      "  warnings.warn(\n",
      "/home/codespace/.local/lib/python3.12/site-packages/sklearn/discriminant_analysis.py:1024: LinAlgWarning: The covariance matrix of class 1 is not full rank. Increasing the value of parameter `reg_param` might help reducing the collinearity.\n",
      "  warnings.warn(\n",
      "/home/codespace/.local/lib/python3.12/site-packages/sklearn/discriminant_analysis.py:1024: LinAlgWarning: The covariance matrix of class 0 is not full rank. Increasing the value of parameter `reg_param` might help reducing the collinearity.\n",
      "  warnings.warn(\n",
      "/home/codespace/.local/lib/python3.12/site-packages/sklearn/discriminant_analysis.py:1024: LinAlgWarning: The covariance matrix of class 0 is not full rank. Increasing the value of parameter `reg_param` might help reducing the collinearity.\n",
      "  warnings.warn(\n",
      "/home/codespace/.local/lib/python3.12/site-packages/sklearn/discriminant_analysis.py:1024: LinAlgWarning: The covariance matrix of class 1 is not full rank. Increasing the value of parameter `reg_param` might help reducing the collinearity.\n",
      "  warnings.warn(\n",
      "/home/codespace/.local/lib/python3.12/site-packages/sklearn/discriminant_analysis.py:1024: LinAlgWarning: The covariance matrix of class 1 is not full rank. Increasing the value of parameter `reg_param` might help reducing the collinearity.\n",
      "  warnings.warn(\n",
      "/home/codespace/.local/lib/python3.12/site-packages/sklearn/discriminant_analysis.py:1024: LinAlgWarning: The covariance matrix of class 0 is not full rank. Increasing the value of parameter `reg_param` might help reducing the collinearity.\n",
      "  warnings.warn(\n",
      "/home/codespace/.local/lib/python3.12/site-packages/sklearn/discriminant_analysis.py:1024: LinAlgWarning: The covariance matrix of class 0 is not full rank. Increasing the value of parameter `reg_param` might help reducing the collinearity.\n",
      "  warnings.warn(\n",
      "/home/codespace/.local/lib/python3.12/site-packages/sklearn/discriminant_analysis.py:1024: LinAlgWarning: The covariance matrix of class 1 is not full rank. Increasing the value of parameter `reg_param` might help reducing the collinearity.\n",
      "  warnings.warn(\n",
      "/home/codespace/.local/lib/python3.12/site-packages/sklearn/discriminant_analysis.py:1024: LinAlgWarning: The covariance matrix of class 1 is not full rank. Increasing the value of parameter `reg_param` might help reducing the collinearity.\n",
      "  warnings.warn(\n",
      "/home/codespace/.local/lib/python3.12/site-packages/sklearn/discriminant_analysis.py:1024: LinAlgWarning: The covariance matrix of class 0 is not full rank. Increasing the value of parameter `reg_param` might help reducing the collinearity.\n",
      "  warnings.warn(\n",
      "/home/codespace/.local/lib/python3.12/site-packages/sklearn/discriminant_analysis.py:1024: LinAlgWarning: The covariance matrix of class 0 is not full rank. Increasing the value of parameter `reg_param` might help reducing the collinearity.\n",
      "  warnings.warn(\n",
      "/home/codespace/.local/lib/python3.12/site-packages/sklearn/discriminant_analysis.py:1024: LinAlgWarning: The covariance matrix of class 1 is not full rank. Increasing the value of parameter `reg_param` might help reducing the collinearity.\n",
      "  warnings.warn(\n",
      "/home/codespace/.local/lib/python3.12/site-packages/sklearn/discriminant_analysis.py:1024: LinAlgWarning: The covariance matrix of class 1 is not full rank. Increasing the value of parameter `reg_param` might help reducing the collinearity.\n",
      "  warnings.warn(\n",
      "/home/codespace/.local/lib/python3.12/site-packages/sklearn/discriminant_analysis.py:1024: LinAlgWarning: The covariance matrix of class 0 is not full rank. Increasing the value of parameter `reg_param` might help reducing the collinearity.\n",
      "  warnings.warn(\n",
      "/home/codespace/.local/lib/python3.12/site-packages/sklearn/discriminant_analysis.py:1024: LinAlgWarning: The covariance matrix of class 0 is not full rank. Increasing the value of parameter `reg_param` might help reducing the collinearity.\n",
      "  warnings.warn(\n",
      "/home/codespace/.local/lib/python3.12/site-packages/sklearn/discriminant_analysis.py:1024: LinAlgWarning: The covariance matrix of class 1 is not full rank. Increasing the value of parameter `reg_param` might help reducing the collinearity.\n",
      "  warnings.warn(\n",
      "/home/codespace/.local/lib/python3.12/site-packages/sklearn/discriminant_analysis.py:1024: LinAlgWarning: The covariance matrix of class 1 is not full rank. Increasing the value of parameter `reg_param` might help reducing the collinearity.\n",
      "  warnings.warn(\n",
      "/home/codespace/.local/lib/python3.12/site-packages/sklearn/discriminant_analysis.py:1024: LinAlgWarning: The covariance matrix of class 0 is not full rank. Increasing the value of parameter `reg_param` might help reducing the collinearity.\n",
      "  warnings.warn(\n",
      "/home/codespace/.local/lib/python3.12/site-packages/sklearn/discriminant_analysis.py:1024: LinAlgWarning: The covariance matrix of class 0 is not full rank. Increasing the value of parameter `reg_param` might help reducing the collinearity.\n",
      "  warnings.warn(\n",
      "/home/codespace/.local/lib/python3.12/site-packages/sklearn/discriminant_analysis.py:1024: LinAlgWarning: The covariance matrix of class 1 is not full rank. Increasing the value of parameter `reg_param` might help reducing the collinearity.\n",
      "  warnings.warn(\n",
      "/home/codespace/.local/lib/python3.12/site-packages/sklearn/discriminant_analysis.py:1024: LinAlgWarning: The covariance matrix of class 1 is not full rank. Increasing the value of parameter `reg_param` might help reducing the collinearity.\n",
      "  warnings.warn(\n",
      "/home/codespace/.local/lib/python3.12/site-packages/sklearn/discriminant_analysis.py:1024: LinAlgWarning: The covariance matrix of class 0 is not full rank. Increasing the value of parameter `reg_param` might help reducing the collinearity.\n",
      "  warnings.warn(\n",
      "/home/codespace/.local/lib/python3.12/site-packages/sklearn/discriminant_analysis.py:1024: LinAlgWarning: The covariance matrix of class 0 is not full rank. Increasing the value of parameter `reg_param` might help reducing the collinearity.\n",
      "  warnings.warn(\n",
      "/home/codespace/.local/lib/python3.12/site-packages/sklearn/discriminant_analysis.py:1024: LinAlgWarning: The covariance matrix of class 1 is not full rank. Increasing the value of parameter `reg_param` might help reducing the collinearity.\n",
      "  warnings.warn(\n",
      "/home/codespace/.local/lib/python3.12/site-packages/sklearn/discriminant_analysis.py:1024: LinAlgWarning: The covariance matrix of class 1 is not full rank. Increasing the value of parameter `reg_param` might help reducing the collinearity.\n",
      "  warnings.warn(\n",
      "/home/codespace/.local/lib/python3.12/site-packages/sklearn/discriminant_analysis.py:1024: LinAlgWarning: The covariance matrix of class 0 is not full rank. Increasing the value of parameter `reg_param` might help reducing the collinearity.\n",
      "  warnings.warn(\n",
      "/home/codespace/.local/lib/python3.12/site-packages/sklearn/discriminant_analysis.py:1024: LinAlgWarning: The covariance matrix of class 0 is not full rank. Increasing the value of parameter `reg_param` might help reducing the collinearity.\n",
      "  warnings.warn(\n",
      "/home/codespace/.local/lib/python3.12/site-packages/sklearn/discriminant_analysis.py:1024: LinAlgWarning: The covariance matrix of class 1 is not full rank. Increasing the value of parameter `reg_param` might help reducing the collinearity.\n",
      "  warnings.warn(\n",
      "/home/codespace/.local/lib/python3.12/site-packages/sklearn/discriminant_analysis.py:1024: LinAlgWarning: The covariance matrix of class 1 is not full rank. Increasing the value of parameter `reg_param` might help reducing the collinearity.\n",
      "  warnings.warn(\n",
      "/home/codespace/.local/lib/python3.12/site-packages/sklearn/discriminant_analysis.py:1024: LinAlgWarning: The covariance matrix of class 0 is not full rank. Increasing the value of parameter `reg_param` might help reducing the collinearity.\n",
      "  warnings.warn(\n",
      "/home/codespace/.local/lib/python3.12/site-packages/sklearn/discriminant_analysis.py:1024: LinAlgWarning: The covariance matrix of class 0 is not full rank. Increasing the value of parameter `reg_param` might help reducing the collinearity.\n",
      "  warnings.warn(\n",
      "/home/codespace/.local/lib/python3.12/site-packages/sklearn/discriminant_analysis.py:1024: LinAlgWarning: The covariance matrix of class 1 is not full rank. Increasing the value of parameter `reg_param` might help reducing the collinearity.\n",
      "  warnings.warn(\n",
      "/home/codespace/.local/lib/python3.12/site-packages/sklearn/discriminant_analysis.py:1024: LinAlgWarning: The covariance matrix of class 1 is not full rank. Increasing the value of parameter `reg_param` might help reducing the collinearity.\n",
      "  warnings.warn(\n",
      "/home/codespace/.local/lib/python3.12/site-packages/sklearn/discriminant_analysis.py:1024: LinAlgWarning: The covariance matrix of class 0 is not full rank. Increasing the value of parameter `reg_param` might help reducing the collinearity.\n",
      "  warnings.warn(\n",
      "/home/codespace/.local/lib/python3.12/site-packages/sklearn/discriminant_analysis.py:1024: LinAlgWarning: The covariance matrix of class 0 is not full rank. Increasing the value of parameter `reg_param` might help reducing the collinearity.\n",
      "  warnings.warn(\n",
      "/home/codespace/.local/lib/python3.12/site-packages/sklearn/discriminant_analysis.py:1024: LinAlgWarning: The covariance matrix of class 1 is not full rank. Increasing the value of parameter `reg_param` might help reducing the collinearity.\n",
      "  warnings.warn(\n",
      "/home/codespace/.local/lib/python3.12/site-packages/sklearn/discriminant_analysis.py:1024: LinAlgWarning: The covariance matrix of class 1 is not full rank. Increasing the value of parameter `reg_param` might help reducing the collinearity.\n",
      "  warnings.warn(\n",
      "/home/codespace/.local/lib/python3.12/site-packages/sklearn/discriminant_analysis.py:1024: LinAlgWarning: The covariance matrix of class 0 is not full rank. Increasing the value of parameter `reg_param` might help reducing the collinearity.\n",
      "  warnings.warn(\n",
      "/home/codespace/.local/lib/python3.12/site-packages/sklearn/discriminant_analysis.py:1024: LinAlgWarning: The covariance matrix of class 0 is not full rank. Increasing the value of parameter `reg_param` might help reducing the collinearity.\n",
      "  warnings.warn(\n",
      "/home/codespace/.local/lib/python3.12/site-packages/sklearn/discriminant_analysis.py:1024: LinAlgWarning: The covariance matrix of class 1 is not full rank. Increasing the value of parameter `reg_param` might help reducing the collinearity.\n",
      "  warnings.warn(\n",
      "/home/codespace/.local/lib/python3.12/site-packages/sklearn/discriminant_analysis.py:1024: LinAlgWarning: The covariance matrix of class 1 is not full rank. Increasing the value of parameter `reg_param` might help reducing the collinearity.\n",
      "  warnings.warn(\n",
      "/home/codespace/.local/lib/python3.12/site-packages/sklearn/discriminant_analysis.py:1024: LinAlgWarning: The covariance matrix of class 0 is not full rank. Increasing the value of parameter `reg_param` might help reducing the collinearity.\n",
      "  warnings.warn(\n",
      "/home/codespace/.local/lib/python3.12/site-packages/sklearn/discriminant_analysis.py:1024: LinAlgWarning: The covariance matrix of class 0 is not full rank. Increasing the value of parameter `reg_param` might help reducing the collinearity.\n",
      "  warnings.warn(\n",
      "/home/codespace/.local/lib/python3.12/site-packages/sklearn/discriminant_analysis.py:1024: LinAlgWarning: The covariance matrix of class 1 is not full rank. Increasing the value of parameter `reg_param` might help reducing the collinearity.\n",
      "  warnings.warn(\n",
      "/home/codespace/.local/lib/python3.12/site-packages/sklearn/discriminant_analysis.py:1024: LinAlgWarning: The covariance matrix of class 1 is not full rank. Increasing the value of parameter `reg_param` might help reducing the collinearity.\n",
      "  warnings.warn(\n",
      "/home/codespace/.local/lib/python3.12/site-packages/sklearn/discriminant_analysis.py:1024: LinAlgWarning: The covariance matrix of class 0 is not full rank. Increasing the value of parameter `reg_param` might help reducing the collinearity.\n",
      "  warnings.warn(\n",
      "/home/codespace/.local/lib/python3.12/site-packages/sklearn/discriminant_analysis.py:1024: LinAlgWarning: The covariance matrix of class 0 is not full rank. Increasing the value of parameter `reg_param` might help reducing the collinearity.\n",
      "  warnings.warn(\n",
      "/home/codespace/.local/lib/python3.12/site-packages/sklearn/discriminant_analysis.py:1024: LinAlgWarning: The covariance matrix of class 1 is not full rank. Increasing the value of parameter `reg_param` might help reducing the collinearity.\n",
      "  warnings.warn(\n",
      "/home/codespace/.local/lib/python3.12/site-packages/sklearn/discriminant_analysis.py:1024: LinAlgWarning: The covariance matrix of class 1 is not full rank. Increasing the value of parameter `reg_param` might help reducing the collinearity.\n",
      "  warnings.warn(\n",
      "/home/codespace/.local/lib/python3.12/site-packages/sklearn/discriminant_analysis.py:1024: LinAlgWarning: The covariance matrix of class 0 is not full rank. Increasing the value of parameter `reg_param` might help reducing the collinearity.\n",
      "  warnings.warn(\n",
      "/home/codespace/.local/lib/python3.12/site-packages/sklearn/discriminant_analysis.py:1024: LinAlgWarning: The covariance matrix of class 0 is not full rank. Increasing the value of parameter `reg_param` might help reducing the collinearity.\n",
      "  warnings.warn(\n",
      "/home/codespace/.local/lib/python3.12/site-packages/sklearn/discriminant_analysis.py:1024: LinAlgWarning: The covariance matrix of class 1 is not full rank. Increasing the value of parameter `reg_param` might help reducing the collinearity.\n",
      "  warnings.warn(\n",
      "/home/codespace/.local/lib/python3.12/site-packages/sklearn/discriminant_analysis.py:1024: LinAlgWarning: The covariance matrix of class 1 is not full rank. Increasing the value of parameter `reg_param` might help reducing the collinearity.\n",
      "  warnings.warn(\n",
      "/home/codespace/.local/lib/python3.12/site-packages/sklearn/discriminant_analysis.py:1024: LinAlgWarning: The covariance matrix of class 0 is not full rank. Increasing the value of parameter `reg_param` might help reducing the collinearity.\n",
      "  warnings.warn(\n",
      "/home/codespace/.local/lib/python3.12/site-packages/sklearn/discriminant_analysis.py:1024: LinAlgWarning: The covariance matrix of class 0 is not full rank. Increasing the value of parameter `reg_param` might help reducing the collinearity.\n",
      "  warnings.warn(\n",
      "/home/codespace/.local/lib/python3.12/site-packages/sklearn/discriminant_analysis.py:1024: LinAlgWarning: The covariance matrix of class 1 is not full rank. Increasing the value of parameter `reg_param` might help reducing the collinearity.\n",
      "  warnings.warn(\n",
      "/home/codespace/.local/lib/python3.12/site-packages/sklearn/discriminant_analysis.py:1024: LinAlgWarning: The covariance matrix of class 1 is not full rank. Increasing the value of parameter `reg_param` might help reducing the collinearity.\n",
      "  warnings.warn(\n",
      "/home/codespace/.local/lib/python3.12/site-packages/sklearn/discriminant_analysis.py:1024: LinAlgWarning: The covariance matrix of class 0 is not full rank. Increasing the value of parameter `reg_param` might help reducing the collinearity.\n",
      "  warnings.warn(\n",
      "/home/codespace/.local/lib/python3.12/site-packages/sklearn/discriminant_analysis.py:1024: LinAlgWarning: The covariance matrix of class 0 is not full rank. Increasing the value of parameter `reg_param` might help reducing the collinearity.\n",
      "  warnings.warn(\n",
      "/home/codespace/.local/lib/python3.12/site-packages/sklearn/discriminant_analysis.py:1024: LinAlgWarning: The covariance matrix of class 1 is not full rank. Increasing the value of parameter `reg_param` might help reducing the collinearity.\n",
      "  warnings.warn(\n",
      "/home/codespace/.local/lib/python3.12/site-packages/sklearn/discriminant_analysis.py:1024: LinAlgWarning: The covariance matrix of class 1 is not full rank. Increasing the value of parameter `reg_param` might help reducing the collinearity.\n",
      "  warnings.warn(\n",
      "/home/codespace/.local/lib/python3.12/site-packages/sklearn/discriminant_analysis.py:1024: LinAlgWarning: The covariance matrix of class 0 is not full rank. Increasing the value of parameter `reg_param` might help reducing the collinearity.\n",
      "  warnings.warn(\n",
      "/home/codespace/.local/lib/python3.12/site-packages/sklearn/discriminant_analysis.py:1024: LinAlgWarning: The covariance matrix of class 0 is not full rank. Increasing the value of parameter `reg_param` might help reducing the collinearity.\n",
      "  warnings.warn(\n",
      "/home/codespace/.local/lib/python3.12/site-packages/sklearn/discriminant_analysis.py:1024: LinAlgWarning: The covariance matrix of class 1 is not full rank. Increasing the value of parameter `reg_param` might help reducing the collinearity.\n",
      "  warnings.warn(\n",
      "/home/codespace/.local/lib/python3.12/site-packages/sklearn/discriminant_analysis.py:1024: LinAlgWarning: The covariance matrix of class 1 is not full rank. Increasing the value of parameter `reg_param` might help reducing the collinearity.\n",
      "  warnings.warn(\n",
      "/home/codespace/.local/lib/python3.12/site-packages/sklearn/discriminant_analysis.py:1024: LinAlgWarning: The covariance matrix of class 0 is not full rank. Increasing the value of parameter `reg_param` might help reducing the collinearity.\n",
      "  warnings.warn(\n",
      "/home/codespace/.local/lib/python3.12/site-packages/sklearn/discriminant_analysis.py:1024: LinAlgWarning: The covariance matrix of class 0 is not full rank. Increasing the value of parameter `reg_param` might help reducing the collinearity.\n",
      "  warnings.warn(\n",
      "/home/codespace/.local/lib/python3.12/site-packages/sklearn/discriminant_analysis.py:1024: LinAlgWarning: The covariance matrix of class 1 is not full rank. Increasing the value of parameter `reg_param` might help reducing the collinearity.\n",
      "  warnings.warn(\n",
      "/home/codespace/.local/lib/python3.12/site-packages/sklearn/discriminant_analysis.py:1024: LinAlgWarning: The covariance matrix of class 1 is not full rank. Increasing the value of parameter `reg_param` might help reducing the collinearity.\n",
      "  warnings.warn(\n",
      "/home/codespace/.local/lib/python3.12/site-packages/sklearn/discriminant_analysis.py:1024: LinAlgWarning: The covariance matrix of class 0 is not full rank. Increasing the value of parameter `reg_param` might help reducing the collinearity.\n",
      "  warnings.warn(\n",
      "/home/codespace/.local/lib/python3.12/site-packages/sklearn/discriminant_analysis.py:1024: LinAlgWarning: The covariance matrix of class 1 is not full rank. Increasing the value of parameter `reg_param` might help reducing the collinearity.\n",
      "  warnings.warn(\n",
      "/home/codespace/.local/lib/python3.12/site-packages/sklearn/discriminant_analysis.py:1024: LinAlgWarning: The covariance matrix of class 0 is not full rank. Increasing the value of parameter `reg_param` might help reducing the collinearity.\n",
      "  warnings.warn(\n",
      "/home/codespace/.local/lib/python3.12/site-packages/sklearn/discriminant_analysis.py:1024: LinAlgWarning: The covariance matrix of class 1 is not full rank. Increasing the value of parameter `reg_param` might help reducing the collinearity.\n",
      "  warnings.warn(\n",
      "/home/codespace/.local/lib/python3.12/site-packages/sklearn/discriminant_analysis.py:1024: LinAlgWarning: The covariance matrix of class 0 is not full rank. Increasing the value of parameter `reg_param` might help reducing the collinearity.\n",
      "  warnings.warn(\n",
      "/home/codespace/.local/lib/python3.12/site-packages/sklearn/discriminant_analysis.py:1024: LinAlgWarning: The covariance matrix of class 1 is not full rank. Increasing the value of parameter `reg_param` might help reducing the collinearity.\n",
      "  warnings.warn(\n",
      "/home/codespace/.local/lib/python3.12/site-packages/sklearn/discriminant_analysis.py:1024: LinAlgWarning: The covariance matrix of class 0 is not full rank. Increasing the value of parameter `reg_param` might help reducing the collinearity.\n",
      "  warnings.warn(\n",
      "/home/codespace/.local/lib/python3.12/site-packages/sklearn/discriminant_analysis.py:1024: LinAlgWarning: The covariance matrix of class 0 is not full rank. Increasing the value of parameter `reg_param` might help reducing the collinearity.\n",
      "  warnings.warn(\n",
      "/home/codespace/.local/lib/python3.12/site-packages/sklearn/discriminant_analysis.py:1024: LinAlgWarning: The covariance matrix of class 1 is not full rank. Increasing the value of parameter `reg_param` might help reducing the collinearity.\n",
      "  warnings.warn(\n",
      "/home/codespace/.local/lib/python3.12/site-packages/sklearn/discriminant_analysis.py:1024: LinAlgWarning: The covariance matrix of class 1 is not full rank. Increasing the value of parameter `reg_param` might help reducing the collinearity.\n",
      "  warnings.warn(\n",
      "/home/codespace/.local/lib/python3.12/site-packages/sklearn/discriminant_analysis.py:1024: LinAlgWarning: The covariance matrix of class 0 is not full rank. Increasing the value of parameter `reg_param` might help reducing the collinearity.\n",
      "  warnings.warn(\n",
      "/home/codespace/.local/lib/python3.12/site-packages/sklearn/discriminant_analysis.py:1024: LinAlgWarning: The covariance matrix of class 1 is not full rank. Increasing the value of parameter `reg_param` might help reducing the collinearity.\n",
      "  warnings.warn(\n",
      "/home/codespace/.local/lib/python3.12/site-packages/sklearn/discriminant_analysis.py:1024: LinAlgWarning: The covariance matrix of class 0 is not full rank. Increasing the value of parameter `reg_param` might help reducing the collinearity.\n",
      "  warnings.warn(\n",
      "/home/codespace/.local/lib/python3.12/site-packages/sklearn/discriminant_analysis.py:1024: LinAlgWarning: The covariance matrix of class 1 is not full rank. Increasing the value of parameter `reg_param` might help reducing the collinearity.\n",
      "  warnings.warn(\n",
      "/home/codespace/.local/lib/python3.12/site-packages/sklearn/discriminant_analysis.py:1024: LinAlgWarning: The covariance matrix of class 0 is not full rank. Increasing the value of parameter `reg_param` might help reducing the collinearity.\n",
      "  warnings.warn(\n",
      "/home/codespace/.local/lib/python3.12/site-packages/sklearn/discriminant_analysis.py:1024: LinAlgWarning: The covariance matrix of class 0 is not full rank. Increasing the value of parameter `reg_param` might help reducing the collinearity.\n",
      "  warnings.warn(\n",
      "/home/codespace/.local/lib/python3.12/site-packages/sklearn/discriminant_analysis.py:1024: LinAlgWarning: The covariance matrix of class 1 is not full rank. Increasing the value of parameter `reg_param` might help reducing the collinearity.\n",
      "  warnings.warn(\n",
      "/home/codespace/.local/lib/python3.12/site-packages/sklearn/discriminant_analysis.py:1024: LinAlgWarning: The covariance matrix of class 1 is not full rank. Increasing the value of parameter `reg_param` might help reducing the collinearity.\n",
      "  warnings.warn(\n",
      "/home/codespace/.local/lib/python3.12/site-packages/sklearn/discriminant_analysis.py:1024: LinAlgWarning: The covariance matrix of class 0 is not full rank. Increasing the value of parameter `reg_param` might help reducing the collinearity.\n",
      "  warnings.warn(\n",
      "/home/codespace/.local/lib/python3.12/site-packages/sklearn/discriminant_analysis.py:1024: LinAlgWarning: The covariance matrix of class 1 is not full rank. Increasing the value of parameter `reg_param` might help reducing the collinearity.\n",
      "  warnings.warn(\n",
      "/home/codespace/.local/lib/python3.12/site-packages/sklearn/discriminant_analysis.py:1024: LinAlgWarning: The covariance matrix of class 0 is not full rank. Increasing the value of parameter `reg_param` might help reducing the collinearity.\n",
      "  warnings.warn(\n",
      "/home/codespace/.local/lib/python3.12/site-packages/sklearn/discriminant_analysis.py:1024: LinAlgWarning: The covariance matrix of class 1 is not full rank. Increasing the value of parameter `reg_param` might help reducing the collinearity.\n",
      "  warnings.warn(\n",
      "/home/codespace/.local/lib/python3.12/site-packages/sklearn/discriminant_analysis.py:1024: LinAlgWarning: The covariance matrix of class 0 is not full rank. Increasing the value of parameter `reg_param` might help reducing the collinearity.\n",
      "  warnings.warn(\n",
      "/home/codespace/.local/lib/python3.12/site-packages/sklearn/discriminant_analysis.py:1024: LinAlgWarning: The covariance matrix of class 1 is not full rank. Increasing the value of parameter `reg_param` might help reducing the collinearity.\n",
      "  warnings.warn(\n",
      "/home/codespace/.local/lib/python3.12/site-packages/sklearn/discriminant_analysis.py:1024: LinAlgWarning: The covariance matrix of class 0 is not full rank. Increasing the value of parameter `reg_param` might help reducing the collinearity.\n",
      "  warnings.warn(\n",
      "/home/codespace/.local/lib/python3.12/site-packages/sklearn/discriminant_analysis.py:1024: LinAlgWarning: The covariance matrix of class 1 is not full rank. Increasing the value of parameter `reg_param` might help reducing the collinearity.\n",
      "  warnings.warn(\n",
      "/home/codespace/.local/lib/python3.12/site-packages/sklearn/discriminant_analysis.py:1024: LinAlgWarning:\n",
      "\n",
      "The covariance matrix of class 0 is not full rank. Increasing the value of parameter `reg_param` might help reducing the collinearity.\n",
      "\n",
      "/home/codespace/.local/lib/python3.12/site-packages/sklearn/discriminant_analysis.py:1024: LinAlgWarning:\n",
      "\n",
      "The covariance matrix of class 1 is not full rank. Increasing the value of parameter `reg_param` might help reducing the collinearity.\n",
      "\n",
      "/home/codespace/.local/lib/python3.12/site-packages/sklearn/model_selection/_search.py:317: UserWarning:\n",
      "\n",
      "The total space of parameters 1 is smaller than n_iter=10. Running 1 iterations. For exhaustive searches, use GridSearchCV.\n",
      "\n"
     ]
    },
    {
     "name": "stdout",
     "output_type": "stream",
     "text": [
      "Mejor puntuación: 0.701\n",
      "Mejores parámetros: {}\n",
      "Calibrando modelo: Naive Bayes\n",
      "Mejor puntuación: 0.684\n",
      "Mejores parámetros: {}\n",
      "Calibrando modelo: Árbol\n",
      "Mejor puntuación: 0.766\n",
      "Mejores parámetros: {'min_samples_split': 2, 'max_depth': 3}\n",
      "Calibrando modelo: Bosque\n",
      "Mejor puntuación: 0.772\n",
      "Mejores parámetros: {'n_estimators': 200, 'max_depth': 10}\n",
      "Calibrando modelo: SVM\n"
     ]
    }
   ],
   "source": [
    "# Calibración y validación cruzada de modelos\n",
    "modelos = {\n",
    "    \"LDA\": (LDA(), {}),\n",
    "    \"QDA\": (QDA(), {}),\n",
    "    \"Naive Bayes\": (GaussianNB(), {}), \n",
    "    \"Árbol\": (DecisionTreeClassifier(random_state=42), {\n",
    "        \"max_depth\": [3, 5, 10, None],\n",
    "        \"min_samples_split\": [2, 5, 10]\n",
    "    }),\n",
    "    \"Bosque\": (RandomForestClassifier(random_state=42), {\n",
    "        \"n_estimators\": [50, 100, 200],\n",
    "        \"max_depth\": [3, 5, 10, None]\n",
    "    }),\n",
    "    \"SVM\": (SVC(probability=True, random_state=42), {\n",
    "        \"C\": [0.1, 1, 10],\n",
    "        \"gamma\": [\"scale\", \"auto\"],\n",
    "        \"kernel\": [\"rbf\", \"linear\"]\n",
    "    })\n",
    "}\n",
    "\n",
    "cv = RepeatedStratifiedKFold(n_splits=10, n_repeats=5, random_state=42)\n",
    "mejores_modelos = {}\n",
    "for nombre, (modelo, params) in modelos.items():\n",
    "    print(f\"Calibrando modelo: {nombre}\")\n",
    "    grid = RandomizedSearchCV(modelo, param_distributions=params, n_iter=10,\n",
    "                              scoring='accuracy', cv=cv, random_state=42, n_jobs=-1)\n",
    "    grid.fit(X_train, y_train)\n",
    "    mejores_modelos[nombre] = grid.best_estimator_\n",
    "    print(f\"Mejor puntuación: {grid.best_score_:.3f}\")\n",
    "    print(f\"Mejores parámetros: {grid.best_params_}\")\n",
    "\n",
    "### Análisis de Curvas ROC y AUC (Pregunta 4)\n",
    "\n",
    "- **Todas las variables:**  \n",
    "  El mejor AUC lo tiene Bosque Aleatorio (0.809), seguido de Naive Bayes (0.798), QDA (0.793), LDA (0.792), SVM (0.771), Árbol (0.709).\n",
    "- **6 variables:**  \n",
    "  El mejor AUC lo tiene Bosque Aleatorio (0.820), seguido de Naive Bayes (0.807), QDA (0.796), LDA (0.794), SVM (0.784), Árbol (0.644).\n",
    "- **Interpretación:**  \n",
    "  El Bosque Aleatorio es el más robusto en discriminación, y la reducción de variables no afecta negativamente el AUC, incluso lo mejora ligeramente.\n",
    "\n",
    "**Recomendación:**\n",
    "- Precisión Global es útil, pero en problemas desbalanceados se recomienda también el F1-score y el AUC.\n",
    "- SVM es competitivo, pero no supera a LDA/QDA/Bosque Aleatorio en estos datos.\n",
    "- Árbol de Decisión es el menos robusto, especialmente en AUC."
   ]
  }
 ],
 "metadata": {
  "kernelspec": {
   "display_name": "Python 3",
   "language": "python",
   "name": "python3"
  },
  "language_info": {
   "codemirror_mode": {
    "name": "ipython",
    "version": 3
   },
   "file_extension": ".py",
   "mimetype": "text/x-python",
   "name": "python",
   "nbconvert_exporter": "python",
   "pygments_lexer": "ipython3",
   "version": "3.12.1"
  }
 },
 "nbformat": 4,
 "nbformat_minor": 5
}
