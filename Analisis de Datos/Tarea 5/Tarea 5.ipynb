{
 "cells": [
  {
   "cell_type": "code",
   "execution_count": 1,
   "id": "50f7fd6e",
   "metadata": {},
   "outputs": [],
   "source": [
    "import pandas as pd\n",
    "from sklearn.model_selection import train_test_split\n",
    "from sklearn.tree import DecisionTreeClassifier\n",
    "from sklearn.ensemble import RandomForestClassifier\n",
    "from sklearn.metrics import accuracy_score, confusion_matrix"
   ]
  },
  {
   "cell_type": "markdown",
   "id": "ccf833ef",
   "metadata": {},
   "source": [
    "## Pregunta 8"
   ]
  },
  {
   "cell_type": "code",
   "execution_count": 2,
   "id": "56cd5833",
   "metadata": {},
   "outputs": [
    {
     "name": "stdout",
     "output_type": "stream",
     "text": [
      "Precisión Árbol de Decisión: 0.6977152899824253\n",
      "Precisión Random Forest: 0.7680140597539543\n"
     ]
    }
   ],
   "source": [
    "df = pd.read_csv(\"novatosNBA.csv\")\n",
    "df = df.drop(columns=['Unnamed: 0', 'Player'])\n",
    "df = pd.get_dummies(df, columns=['Team', 'Conf', 'Year'], drop_first=True)\n",
    "\n",
    "\n",
    "df.dropna(inplace=True)\n",
    "\n",
    "\n",
    "X = df.drop(columns=['Target'])\n",
    "y = df['Target']\n",
    "\n",
    "\n",
    "X_train, X_test, y_train, y_test = train_test_split(X, y, test_size=0.2, random_state=42)\n",
    "\n",
    "# Entrenar modelos\n",
    "modelo_arbol = DecisionTreeClassifier(random_state=42)\n",
    "modelo_arbol.fit(X_train, y_train)\n",
    "pred_arbol = modelo_arbol.predict(X_test)\n",
    "\n",
    "modelo_rf = RandomForestClassifier(random_state=42)\n",
    "modelo_rf.fit(X_train, y_train)\n",
    "pred_rf = modelo_rf.predict(X_test)\n",
    "\n",
    "# Mostrar precisión de ambos modelos\n",
    "print(\"Precisión Árbol de Decisión:\", accuracy_score(y_test, pred_arbol))\n",
    "print(\"Precisión Random Forest:\", accuracy_score(y_test, pred_rf))\n"
   ]
  },
  {
   "cell_type": "code",
   "execution_count": 3,
   "id": "46b2a613",
   "metadata": {},
   "outputs": [
    {
     "name": "stdout",
     "output_type": "stream",
     "text": [
      "\n",
      "Métricas comparativas:\n",
      "                   Precisión Global  Error Global  Precisión Positiva (PP)  \\\n",
      "Árbol de Decisión          0.697715      0.302285                 0.756345   \n",
      "Random Forest              0.768014      0.231986                 0.821809   \n",
      "\n",
      "                   Precisión Negativa (PN)  \n",
      "Árbol de Decisión                 0.565714  \n",
      "Random Forest                     0.663212  \n"
     ]
    }
   ],
   "source": [
    "\n",
    "\n",
    "def calcular_metricas(y_true, y_pred):\n",
    "    cm = confusion_matrix(y_true, y_pred)\n",
    "    TN, FP, FN, TP = cm.ravel()\n",
    "    return {\n",
    "        'Precisión Global': (TP + TN) / (TP + TN + FP + FN),\n",
    "        'Error Global': 1 - ((TP + TN) / (TP + TN + FP + FN)),\n",
    "        'Precisión Positiva (PP)': TP / (TP + FP) if (TP + FP) > 0 else 0,\n",
    "        'Precisión Negativa (PN)': TN / (TN + FN) if (TN + FN) > 0 else 0\n",
    "    }\n",
    "\n",
    "\n",
    "metrics_arbol = calcular_metricas(y_test, pred_arbol)\n",
    "metrics_rf = calcular_metricas(y_test, pred_rf)\n",
    "\n",
    "\n",
    "df_comparacion = pd.DataFrame({\n",
    "    'Árbol de Decisión': metrics_arbol,\n",
    "    'Random Forest': metrics_rf\n",
    "}).T\n",
    "\n",
    "\n",
    "print(\"\\nMétricas comparativas:\")\n",
    "print(df_comparacion)\n",
    "\n",
    "\n"
   ]
  },
  {
   "cell_type": "markdown",
   "id": "01b1bfd5",
   "metadata": {},
   "source": [
    "El modelo con mejor desempeño general es: Random Forest"
   ]
  },
  {
   "cell_type": "markdown",
   "id": "e246a5b8",
   "metadata": {},
   "source": [
    "## Pregunta 9"
   ]
  },
  {
   "cell_type": "code",
   "execution_count": 4,
   "id": "ad4ce62f",
   "metadata": {},
   "outputs": [
    {
     "name": "stdout",
     "output_type": "stream",
     "text": [
      "   Pregnancies  Glucose  BloodPressure  SkinThickness  Insulin   BMI  \\\n",
      "0            6      148             72             35        0  33.6   \n",
      "1            1       85             66             29        0  26.6   \n",
      "2            8      183             64              0        0  23.3   \n",
      "3            1       89             66             23       94  28.1   \n",
      "4            0      137             40             35      168  43.1   \n",
      "\n",
      "   DiabetesPedigreeFunction  Age  Outcome  \n",
      "0                     0.627   50        1  \n",
      "1                     0.351   31        0  \n",
      "2                     0.672   32        1  \n",
      "3                     0.167   21        0  \n",
      "4                     2.288   33        1  \n",
      "\n",
      "Valores nulos por columna:\n",
      "Pregnancies                 0\n",
      "Glucose                     0\n",
      "BloodPressure               0\n",
      "SkinThickness               0\n",
      "Insulin                     0\n",
      "BMI                         0\n",
      "DiabetesPedigreeFunction    0\n",
      "Age                         0\n",
      "Outcome                     0\n",
      "dtype: int64\n"
     ]
    }
   ],
   "source": [
    "df = pd.read_csv(\"diabetes.csv\")\n",
    "print(df.head())\n",
    "print(\"\\nValores nulos por columna:\")\n",
    "print(df.isnull().sum())\n"
   ]
  },
  {
   "cell_type": "code",
   "execution_count": 5,
   "id": "533c8fe3",
   "metadata": {},
   "outputs": [
    {
     "name": "stdout",
     "output_type": "stream",
     "text": [
      "Árbol de Decisión:\n",
      "\n",
      "[[87 36]\n",
      " [20 49]]\n"
     ]
    },
    {
     "ename": "NameError",
     "evalue": "name 'classification_report' is not defined",
     "output_type": "error",
     "traceback": [
      "\u001b[31m---------------------------------------------------------------------------\u001b[39m",
      "\u001b[31mNameError\u001b[39m                                 Traceback (most recent call last)",
      "\u001b[36mCell\u001b[39m\u001b[36m \u001b[39m\u001b[32mIn[5]\u001b[39m\u001b[32m, line 18\u001b[39m\n\u001b[32m     16\u001b[39m \u001b[38;5;28mprint\u001b[39m(\u001b[33m\"\u001b[39m\u001b[33mÁrbol de Decisión:\u001b[39m\u001b[38;5;130;01m\\n\u001b[39;00m\u001b[33m\"\u001b[39m)\n\u001b[32m     17\u001b[39m \u001b[38;5;28mprint\u001b[39m(confusion_matrix(y_test, pred_arbol))\n\u001b[32m---> \u001b[39m\u001b[32m18\u001b[39m \u001b[38;5;28mprint\u001b[39m(\u001b[43mclassification_report\u001b[49m(y_test, pred_arbol))\n\u001b[32m     20\u001b[39m \u001b[38;5;28mprint\u001b[39m(\u001b[33m\"\u001b[39m\u001b[38;5;130;01m\\n\u001b[39;00m\u001b[33mBosque Aleatorio:\u001b[39m\u001b[38;5;130;01m\\n\u001b[39;00m\u001b[33m\"\u001b[39m)\n\u001b[32m     21\u001b[39m \u001b[38;5;28mprint\u001b[39m(confusion_matrix(y_test, pred_rf))\n",
      "\u001b[31mNameError\u001b[39m: name 'classification_report' is not defined"
     ]
    }
   ],
   "source": [
    "X = df.drop(columns=['Outcome']) \n",
    "y = df['Outcome']\n",
    "\n",
    "X_train, X_test, y_train, y_test = train_test_split(X, y, test_size=0.25, random_state=42)\n",
    "\n",
    "modelo_arbol = DecisionTreeClassifier(random_state=42)\n",
    "modelo_arbol.fit(X_train, y_train)\n",
    "pred_arbol = modelo_arbol.predict(X_test)\n",
    "\n",
    "\n",
    "modelo_rf = RandomForestClassifier(random_state=42)\n",
    "modelo_rf.fit(X_train, y_train)\n",
    "pred_rf = modelo_rf.predict(X_test)\n",
    "\n",
    "# Evaluación\n",
    "print(\"Árbol de Decisión:\\n\")\n",
    "print(confusion_matrix(y_test, pred_arbol))\n",
    "print(classification_report(y_test, pred_arbol))\n",
    "\n",
    "print(\"\\nBosque Aleatorio:\\n\")\n",
    "print(confusion_matrix(y_test, pred_rf))\n",
    "print(classification_report(y_test, pred_rf))\n",
    "\n",
    "print(\"\\nPrecisión Global Árbol:\", accuracy_score(y_test, pred_arbol))\n",
    "print(\"Precisión Global Random Forest:\", accuracy_score(y_test, pred_rf))\n"
   ]
  },
  {
   "cell_type": "code",
   "execution_count": null,
   "id": "587aae0a",
   "metadata": {},
   "outputs": [
    {
     "name": "stdout",
     "output_type": "stream",
     "text": [
      "Comparación con todas las variables:\n",
      "                   Precisión Global  Error Global  Precisión Positiva (PP)  \\\n",
      "Árbol de Decisión          0.708333      0.291667                 0.576471   \n",
      "Random Forest              0.734375      0.265625                 0.625000   \n",
      "\n",
      "                   Precisión Negativa (PN)  \n",
      "Árbol de Decisión                 0.813084  \n",
      "Random Forest                     0.800000  \n",
      "\n",
      "Comparación con solo 6 variables:\n",
      "               Precisión Global  Error Global  Precisión Positiva (PP)  \\\n",
      "Árbol                  0.687500      0.312500                 0.556962   \n",
      "Random Forest          0.755208      0.244792                 0.648649   \n",
      "\n",
      "               Precisión Negativa (PN)  \n",
      "Árbol                         0.778761  \n",
      "Random Forest                 0.822034  \n"
     ]
    }
   ],
   "source": [
    "\n",
    "m_arbol = calcular_metricas(y_test, pred_arbol)\n",
    "m_rf = calcular_metricas(y_test, pred_rf)\n",
    "\n",
    "df_comparacion = pd.DataFrame({\n",
    "    'Árbol de Decisión': m_arbol,\n",
    "    'Random Forest': m_rf\n",
    "}).T\n",
    "\n",
    "print(\"Comparación con todas las variables:\")\n",
    "print(df_comparacion)\n",
    "\n"
   ]
  },
  {
   "cell_type": "code",
   "execution_count": null,
   "id": "6630525f",
   "metadata": {},
   "outputs": [
    {
     "name": "stdout",
     "output_type": "stream",
     "text": [
      "Comparación usando solo 6 variables predictoras:\n",
      "               Precisión Global  Error Global  Precisión Positiva (PP)  \\\n",
      "Árbol                  0.687500      0.312500                 0.556962   \n",
      "Random Forest          0.755208      0.244792                 0.648649   \n",
      "\n",
      "               Precisión Negativa (PN)  \n",
      "Árbol                         0.778761  \n",
      "Random Forest                 0.822034  \n"
     ]
    }
   ],
   "source": [
    "\n",
    "X6 = df[['Glucose', 'BMI', 'Age', 'Insulin', 'BloodPressure', 'DiabetesPedigreeFunction']]\n",
    "y = df['Outcome']\n",
    "\n",
    "X6_train, X6_test, y6_train, y6_test = train_test_split(X6, y, test_size=0.25, random_state=42)\n",
    "\n",
    "modelo_arbol6 = DecisionTreeClassifier(random_state=42)\n",
    "modelo_arbol6.fit(X6_train, y6_train)\n",
    "pred_arbol6 = modelo_arbol6.predict(X6_test)\n",
    "\n",
    "modelo_rf6 = RandomForestClassifier(random_state=42)\n",
    "modelo_rf6.fit(X6_train, y6_train)\n",
    "pred_rf6 = modelo_rf6.predict(X6_test)\n",
    "\n",
    "m_arbol6 = calcular_metricas(y6_test, pred_arbol6)\n",
    "m_rf6 = calcular_metricas(y6_test, pred_rf6)\n",
    "\n",
    "df_comparacion6 = pd.DataFrame({\n",
    "    'Árbol ': m_arbol6,\n",
    "    'Random Forest': m_rf6\n",
    "}).T\n",
    "\n",
    "print(\"Comparación usando solo 6 variables predictoras:\")\n",
    "print(df_comparacion6)\n",
    "\n"
   ]
  }
 ],
 "metadata": {
  "kernelspec": {
   "display_name": "Python 3",
   "language": "python",
   "name": "python3"
  },
  "language_info": {
   "codemirror_mode": {
    "name": "ipython",
    "version": 3
   },
   "file_extension": ".py",
   "mimetype": "text/x-python",
   "name": "python",
   "nbconvert_exporter": "python",
   "pygments_lexer": "ipython3",
   "version": "3.11.9"
  }
 },
 "nbformat": 4,
 "nbformat_minor": 5
}
